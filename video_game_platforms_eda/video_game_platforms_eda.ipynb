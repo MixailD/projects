{
 "cells": [
  {
   "cell_type": "markdown",
   "metadata": {},
   "source": [
    "## Оглавление проекта"
   ]
  },
  {
   "cell_type": "markdown",
   "metadata": {},
   "source": [
    "- <a href='#description'>Описание проекта</a>\n",
    "- <a href='#purpose'>Цель проекта</a>\n",
    "- <a href='#data_description'>Описание данных</a>\n",
    "\n",
    "\n",
    "- <a href='#load'> 1. Загрузка необходимых библиотек. Изучение общей информации.</a>\n",
    "- <a href='#data_preparation'>2. Подготовка данных</a>\n",
    "- <a href='#data_analysis'>3. Исследовательский анализ данных</a>\n",
    "- <a href='#users'>4. Портрет пользователя каждого региона</a> \n",
    " \n",
    "\n",
    "\n",
    "- <a href='#conclusion'>Общий вывод</a>"
   ]
  },
  {
   "cell_type": "markdown",
   "metadata": {},
   "source": [
    "</span><a id='description'></a>\n",
    "_______\n",
    "## Описание проекта  \n",
    "\n",
    "Из открытых источников доступны исторические данные о продажах игр, оценки пользователей и экспертов, жанры и платформы (например, Xbox или PlayStation).  \n",
    "Представленны данные до 2016 года. "
   ]
  },
  {
   "cell_type": "markdown",
   "metadata": {},
   "source": [
    "</span><a id='purpose'></a>\n",
    "___________\n",
    "\n",
    "## Цель проекта\n",
    "\n",
    "Провести исследовательский анализ данных и  отработать принцип работы. \n",
    "Нужно выявить определяющие успешность игры закономерности. Это позволит сделать ставку на потенциально популярный продукт и спланировать рекламные кампании."
   ]
  },
  {
   "cell_type": "markdown",
   "metadata": {},
   "source": [
    "</span><a id='data_description'></a>\n",
    "___________\n",
    "## Описание данных\n",
    "- *Name* — название игры\n",
    "- *Platform* — платформа\n",
    "- *Year_of_Release* — год выпуска\n",
    "- *Genre* — жанр игры\n",
    "- *NA_sales* — продажи в Северной Америке (миллионы проданных копий)\n",
    "- *EU_sales* — продажи в Европе (миллионы проданных копий)\n",
    "- *JP_sales* — продажи в Японии (миллионы проданных копий)\n",
    "- *Other_sales* — продажи в других странах (миллионы проданных копий)\n",
    "- *Critic_Score* — оценка критиков (максимум 100)\n",
    "- *User_Score* — оценка пользователей (максимум 10)\n",
    "- *Rating* — рейтинг от организации ESRB (англ. Entertainment Software Rating Board). Эта ассоциация определяет рейтинг компьютерных игр и присваивает им подходящую возрастную категорию.\n",
    "\n",
    "**Значения рейтинга ESRB**  \n",
    "- **E** (Everyone) — «Для всех»  \n",
    "- **M** (Mature) — «Для взрослых»  \n",
    "- **T** (Teen) — «Подросткам»  \n",
    "- **E10+** (Everyone 10 and older) — «Для всех от 10 лет и старше»\n",
    "- **K-A** (Kids to Adults) - \"Детям и Взрослым\" до 1998 г. позже переименована в **E** («Everyone»)\n",
    "- **AO** (Adults Only 18+) — «Только для взрослых»\n",
    "- **EC** (Early childhood) — «Для детей младшего возраста»\n",
    "- **RP** (Rating Pending) — «Рейтинг ожидается»\n",
    "\n",
    "Данные за 2016 год могут быть неполными."
   ]
  },
  {
   "cell_type": "markdown",
   "metadata": {},
   "source": [
    "</span><a id='load'></a>\n",
    "## 1. Загрузка необходимых библиотек. Изучение общей информации."
   ]
  },
  {
   "cell_type": "code",
   "execution_count": 1,
   "metadata": {},
   "outputs": [],
   "source": [
    "import pandas as pd\n",
    "import numpy as np\n",
    "import matplotlib.pyplot as plt\n",
    "from scipy import stats as st\n",
    "import seaborn as sns\n",
    "import warnings\n",
    "warnings.filterwarnings('ignore')"
   ]
  },
  {
   "cell_type": "code",
   "execution_count": 2,
   "metadata": {},
   "outputs": [],
   "source": [
    "games = pd.read_csv('/datasets/games.csv')"
   ]
  },
  {
   "cell_type": "code",
   "execution_count": 3,
   "metadata": {
    "scrolled": false
   },
   "outputs": [
    {
     "name": "stdout",
     "output_type": "stream",
     "text": [
      "<class 'pandas.core.frame.DataFrame'>\n",
      "RangeIndex: 16715 entries, 0 to 16714\n",
      "Data columns (total 11 columns):\n",
      "Name               16713 non-null object\n",
      "Platform           16715 non-null object\n",
      "Year_of_Release    16446 non-null float64\n",
      "Genre              16713 non-null object\n",
      "NA_sales           16715 non-null float64\n",
      "EU_sales           16715 non-null float64\n",
      "JP_sales           16715 non-null float64\n",
      "Other_sales        16715 non-null float64\n",
      "Critic_Score       8137 non-null float64\n",
      "User_Score         10014 non-null object\n",
      "Rating             9949 non-null object\n",
      "dtypes: float64(6), object(5)\n",
      "memory usage: 1.4+ MB\n"
     ]
    },
    {
     "data": {
      "text/html": [
       "<div>\n",
       "<style scoped>\n",
       "    .dataframe tbody tr th:only-of-type {\n",
       "        vertical-align: middle;\n",
       "    }\n",
       "\n",
       "    .dataframe tbody tr th {\n",
       "        vertical-align: top;\n",
       "    }\n",
       "\n",
       "    .dataframe thead th {\n",
       "        text-align: right;\n",
       "    }\n",
       "</style>\n",
       "<table border=\"1\" class=\"dataframe\">\n",
       "  <thead>\n",
       "    <tr style=\"text-align: right;\">\n",
       "      <th></th>\n",
       "      <th>Name</th>\n",
       "      <th>Platform</th>\n",
       "      <th>Year_of_Release</th>\n",
       "      <th>Genre</th>\n",
       "      <th>NA_sales</th>\n",
       "      <th>EU_sales</th>\n",
       "      <th>JP_sales</th>\n",
       "      <th>Other_sales</th>\n",
       "      <th>Critic_Score</th>\n",
       "      <th>User_Score</th>\n",
       "      <th>Rating</th>\n",
       "    </tr>\n",
       "  </thead>\n",
       "  <tbody>\n",
       "    <tr>\n",
       "      <td>0</td>\n",
       "      <td>Wii Sports</td>\n",
       "      <td>Wii</td>\n",
       "      <td>2006.0</td>\n",
       "      <td>Sports</td>\n",
       "      <td>41.36</td>\n",
       "      <td>28.96</td>\n",
       "      <td>3.77</td>\n",
       "      <td>8.45</td>\n",
       "      <td>76.0</td>\n",
       "      <td>8</td>\n",
       "      <td>E</td>\n",
       "    </tr>\n",
       "    <tr>\n",
       "      <td>1</td>\n",
       "      <td>Super Mario Bros.</td>\n",
       "      <td>NES</td>\n",
       "      <td>1985.0</td>\n",
       "      <td>Platform</td>\n",
       "      <td>29.08</td>\n",
       "      <td>3.58</td>\n",
       "      <td>6.81</td>\n",
       "      <td>0.77</td>\n",
       "      <td>NaN</td>\n",
       "      <td>NaN</td>\n",
       "      <td>NaN</td>\n",
       "    </tr>\n",
       "    <tr>\n",
       "      <td>2</td>\n",
       "      <td>Mario Kart Wii</td>\n",
       "      <td>Wii</td>\n",
       "      <td>2008.0</td>\n",
       "      <td>Racing</td>\n",
       "      <td>15.68</td>\n",
       "      <td>12.76</td>\n",
       "      <td>3.79</td>\n",
       "      <td>3.29</td>\n",
       "      <td>82.0</td>\n",
       "      <td>8.3</td>\n",
       "      <td>E</td>\n",
       "    </tr>\n",
       "    <tr>\n",
       "      <td>3</td>\n",
       "      <td>Wii Sports Resort</td>\n",
       "      <td>Wii</td>\n",
       "      <td>2009.0</td>\n",
       "      <td>Sports</td>\n",
       "      <td>15.61</td>\n",
       "      <td>10.93</td>\n",
       "      <td>3.28</td>\n",
       "      <td>2.95</td>\n",
       "      <td>80.0</td>\n",
       "      <td>8</td>\n",
       "      <td>E</td>\n",
       "    </tr>\n",
       "    <tr>\n",
       "      <td>4</td>\n",
       "      <td>Pokemon Red/Pokemon Blue</td>\n",
       "      <td>GB</td>\n",
       "      <td>1996.0</td>\n",
       "      <td>Role-Playing</td>\n",
       "      <td>11.27</td>\n",
       "      <td>8.89</td>\n",
       "      <td>10.22</td>\n",
       "      <td>1.00</td>\n",
       "      <td>NaN</td>\n",
       "      <td>NaN</td>\n",
       "      <td>NaN</td>\n",
       "    </tr>\n",
       "  </tbody>\n",
       "</table>\n",
       "</div>"
      ],
      "text/plain": [
       "                       Name Platform  Year_of_Release         Genre  NA_sales  \\\n",
       "0                Wii Sports      Wii           2006.0        Sports     41.36   \n",
       "1         Super Mario Bros.      NES           1985.0      Platform     29.08   \n",
       "2            Mario Kart Wii      Wii           2008.0        Racing     15.68   \n",
       "3         Wii Sports Resort      Wii           2009.0        Sports     15.61   \n",
       "4  Pokemon Red/Pokemon Blue       GB           1996.0  Role-Playing     11.27   \n",
       "\n",
       "   EU_sales  JP_sales  Other_sales  Critic_Score User_Score Rating  \n",
       "0     28.96      3.77         8.45          76.0          8      E  \n",
       "1      3.58      6.81         0.77           NaN        NaN    NaN  \n",
       "2     12.76      3.79         3.29          82.0        8.3      E  \n",
       "3     10.93      3.28         2.95          80.0          8      E  \n",
       "4      8.89     10.22         1.00           NaN        NaN    NaN  "
      ]
     },
     "execution_count": 3,
     "metadata": {},
     "output_type": "execute_result"
    }
   ],
   "source": [
    "games.info()\n",
    "games.sample(5)\n",
    "games.head()"
   ]
  },
  {
   "cell_type": "markdown",
   "metadata": {},
   "source": [
    "Названия столбцов соответствуют данным. Большое количество пропусков в столбцах *critic_score* , *user_score*, *rating*. Данные в столбце *user_score* имеют тип object - это требует исправления для дальнейшего анализа. Тип данных в столбце *year_of_release* - float64 приведем к целочисленному int, что бы лучше читалась информация на графиках. "
   ]
  },
  {
   "cell_type": "markdown",
   "metadata": {},
   "source": [
    "</span><a id='data_preparation'></a>\n",
    "____________\n",
    "## 2. Подготовка данных"
   ]
  },
  {
   "cell_type": "markdown",
   "metadata": {},
   "source": [
    "Приведем названия столбцов к нижнему регистру."
   ]
  },
  {
   "cell_type": "code",
   "execution_count": 4,
   "metadata": {},
   "outputs": [],
   "source": [
    "games.columns = games.columns.str.lower()"
   ]
  },
  {
   "cell_type": "markdown",
   "metadata": {},
   "source": [
    "_____\n",
    "Изучим по очереди пропуски во всех столбцах."
   ]
  },
  {
   "cell_type": "code",
   "execution_count": 5,
   "metadata": {
    "scrolled": true
   },
   "outputs": [
    {
     "data": {
      "text/plain": [
       "name                  2\n",
       "platform              0\n",
       "year_of_release     269\n",
       "genre                 2\n",
       "na_sales              0\n",
       "eu_sales              0\n",
       "jp_sales              0\n",
       "other_sales           0\n",
       "critic_score       8578\n",
       "user_score         6701\n",
       "rating             6766\n",
       "dtype: int64"
      ]
     },
     "execution_count": 5,
     "metadata": {},
     "output_type": "execute_result"
    }
   ],
   "source": [
    "#количество пропусков в столбцах\n",
    "games.isna().sum()"
   ]
  },
  {
   "cell_type": "code",
   "execution_count": 6,
   "metadata": {
    "scrolled": false
   },
   "outputs": [
    {
     "data": {
      "text/html": [
       "<div>\n",
       "<style scoped>\n",
       "    .dataframe tbody tr th:only-of-type {\n",
       "        vertical-align: middle;\n",
       "    }\n",
       "\n",
       "    .dataframe tbody tr th {\n",
       "        vertical-align: top;\n",
       "    }\n",
       "\n",
       "    .dataframe thead th {\n",
       "        text-align: right;\n",
       "    }\n",
       "</style>\n",
       "<table border=\"1\" class=\"dataframe\">\n",
       "  <thead>\n",
       "    <tr style=\"text-align: right;\">\n",
       "      <th></th>\n",
       "      <th>name</th>\n",
       "      <th>platform</th>\n",
       "      <th>year_of_release</th>\n",
       "      <th>genre</th>\n",
       "      <th>na_sales</th>\n",
       "      <th>eu_sales</th>\n",
       "      <th>jp_sales</th>\n",
       "      <th>other_sales</th>\n",
       "      <th>critic_score</th>\n",
       "      <th>user_score</th>\n",
       "      <th>rating</th>\n",
       "    </tr>\n",
       "  </thead>\n",
       "  <tbody>\n",
       "    <tr>\n",
       "      <td>659</td>\n",
       "      <td>NaN</td>\n",
       "      <td>GEN</td>\n",
       "      <td>1993.0</td>\n",
       "      <td>NaN</td>\n",
       "      <td>1.78</td>\n",
       "      <td>0.53</td>\n",
       "      <td>0.00</td>\n",
       "      <td>0.08</td>\n",
       "      <td>NaN</td>\n",
       "      <td>NaN</td>\n",
       "      <td>NaN</td>\n",
       "    </tr>\n",
       "    <tr>\n",
       "      <td>14244</td>\n",
       "      <td>NaN</td>\n",
       "      <td>GEN</td>\n",
       "      <td>1993.0</td>\n",
       "      <td>NaN</td>\n",
       "      <td>0.00</td>\n",
       "      <td>0.00</td>\n",
       "      <td>0.03</td>\n",
       "      <td>0.00</td>\n",
       "      <td>NaN</td>\n",
       "      <td>NaN</td>\n",
       "      <td>NaN</td>\n",
       "    </tr>\n",
       "  </tbody>\n",
       "</table>\n",
       "</div>"
      ],
      "text/plain": [
       "      name platform  year_of_release genre  na_sales  eu_sales  jp_sales  \\\n",
       "659    NaN      GEN           1993.0   NaN      1.78      0.53      0.00   \n",
       "14244  NaN      GEN           1993.0   NaN      0.00      0.00      0.03   \n",
       "\n",
       "       other_sales  critic_score user_score rating  \n",
       "659           0.08           NaN        NaN    NaN  \n",
       "14244         0.00           NaN        NaN    NaN  "
      ]
     },
     "execution_count": 6,
     "metadata": {},
     "output_type": "execute_result"
    }
   ],
   "source": [
    "#пропуски в name и genre - одни и те же строки\n",
    "games[games['name'].isna()]"
   ]
  },
  {
   "cell_type": "markdown",
   "metadata": {},
   "source": [
    "Очень много отсутствующих значений в этих двух строках. "
   ]
  },
  {
   "cell_type": "code",
   "execution_count": 7,
   "metadata": {},
   "outputs": [
    {
     "data": {
      "text/html": [
       "<div>\n",
       "<style scoped>\n",
       "    .dataframe tbody tr th:only-of-type {\n",
       "        vertical-align: middle;\n",
       "    }\n",
       "\n",
       "    .dataframe tbody tr th {\n",
       "        vertical-align: top;\n",
       "    }\n",
       "\n",
       "    .dataframe thead th {\n",
       "        text-align: right;\n",
       "    }\n",
       "</style>\n",
       "<table border=\"1\" class=\"dataframe\">\n",
       "  <thead>\n",
       "    <tr style=\"text-align: right;\">\n",
       "      <th></th>\n",
       "      <th>name</th>\n",
       "      <th>platform</th>\n",
       "      <th>year_of_release</th>\n",
       "      <th>genre</th>\n",
       "      <th>na_sales</th>\n",
       "      <th>eu_sales</th>\n",
       "      <th>jp_sales</th>\n",
       "      <th>other_sales</th>\n",
       "      <th>critic_score</th>\n",
       "      <th>user_score</th>\n",
       "      <th>rating</th>\n",
       "    </tr>\n",
       "  </thead>\n",
       "  <tbody>\n",
       "    <tr>\n",
       "      <td>14685</td>\n",
       "      <td>World of Tanks</td>\n",
       "      <td>X360</td>\n",
       "      <td>NaN</td>\n",
       "      <td>Shooter</td>\n",
       "      <td>0.00</td>\n",
       "      <td>0.03</td>\n",
       "      <td>0.0</td>\n",
       "      <td>0.00</td>\n",
       "      <td>NaN</td>\n",
       "      <td>5.2</td>\n",
       "      <td>NaN</td>\n",
       "    </tr>\n",
       "    <tr>\n",
       "      <td>2536</td>\n",
       "      <td>Shaun White Snowboarding</td>\n",
       "      <td>X360</td>\n",
       "      <td>NaN</td>\n",
       "      <td>Sports</td>\n",
       "      <td>0.48</td>\n",
       "      <td>0.25</td>\n",
       "      <td>0.0</td>\n",
       "      <td>0.08</td>\n",
       "      <td>60.0</td>\n",
       "      <td>7.6</td>\n",
       "      <td>T</td>\n",
       "    </tr>\n",
       "    <tr>\n",
       "      <td>12209</td>\n",
       "      <td>Build-A-Bear Workshop: Friendship Valley</td>\n",
       "      <td>Wii</td>\n",
       "      <td>NaN</td>\n",
       "      <td>Misc</td>\n",
       "      <td>0.06</td>\n",
       "      <td>0.00</td>\n",
       "      <td>0.0</td>\n",
       "      <td>0.00</td>\n",
       "      <td>NaN</td>\n",
       "      <td>tbd</td>\n",
       "      <td>E</td>\n",
       "    </tr>\n",
       "    <tr>\n",
       "      <td>6019</td>\n",
       "      <td>Nicktoons: Battle for Volcano Island</td>\n",
       "      <td>GC</td>\n",
       "      <td>NaN</td>\n",
       "      <td>Action</td>\n",
       "      <td>0.22</td>\n",
       "      <td>0.06</td>\n",
       "      <td>0.0</td>\n",
       "      <td>0.01</td>\n",
       "      <td>NaN</td>\n",
       "      <td>7</td>\n",
       "      <td>E</td>\n",
       "    </tr>\n",
       "    <tr>\n",
       "      <td>9218</td>\n",
       "      <td>Bejeweled 3</td>\n",
       "      <td>X360</td>\n",
       "      <td>NaN</td>\n",
       "      <td>Puzzle</td>\n",
       "      <td>0.13</td>\n",
       "      <td>0.00</td>\n",
       "      <td>0.0</td>\n",
       "      <td>0.01</td>\n",
       "      <td>78.0</td>\n",
       "      <td>8.4</td>\n",
       "      <td>E</td>\n",
       "    </tr>\n",
       "  </tbody>\n",
       "</table>\n",
       "</div>"
      ],
      "text/plain": [
       "                                           name platform  year_of_release  \\\n",
       "14685                            World of Tanks     X360              NaN   \n",
       "2536                   Shaun White Snowboarding     X360              NaN   \n",
       "12209  Build-A-Bear Workshop: Friendship Valley      Wii              NaN   \n",
       "6019       Nicktoons: Battle for Volcano Island       GC              NaN   \n",
       "9218                                Bejeweled 3     X360              NaN   \n",
       "\n",
       "         genre  na_sales  eu_sales  jp_sales  other_sales  critic_score  \\\n",
       "14685  Shooter      0.00      0.03       0.0         0.00           NaN   \n",
       "2536    Sports      0.48      0.25       0.0         0.08          60.0   \n",
       "12209     Misc      0.06      0.00       0.0         0.00           NaN   \n",
       "6019    Action      0.22      0.06       0.0         0.01           NaN   \n",
       "9218    Puzzle      0.13      0.00       0.0         0.01          78.0   \n",
       "\n",
       "      user_score rating  \n",
       "14685        5.2    NaN  \n",
       "2536         7.6      T  \n",
       "12209        tbd      E  \n",
       "6019           7      E  \n",
       "9218         8.4      E  "
      ]
     },
     "execution_count": 7,
     "metadata": {},
     "output_type": "execute_result"
    }
   ],
   "source": [
    "games[games['year_of_release'].isna()].sample(5)"
   ]
  },
  {
   "cell_type": "markdown",
   "metadata": {},
   "source": [
    "Корректно заполнить пропуски year_of_release исходя из имеющихся данных не получится. Таких строк меньше 2%."
   ]
  },
  {
   "cell_type": "markdown",
   "metadata": {},
   "source": [
    "Удаляем строки с пропущенными значениями в столбцах *name*, *year_of_release*, *genre*"
   ]
  },
  {
   "cell_type": "code",
   "execution_count": 8,
   "metadata": {},
   "outputs": [],
   "source": [
    "games = games.dropna(subset=['name','year_of_release','genre'])\n",
    "#games.isna().sum()"
   ]
  },
  {
   "cell_type": "markdown",
   "metadata": {},
   "source": [
    "Для лучшего отображения на графиках преобразуем year_of_release в формат int"
   ]
  },
  {
   "cell_type": "code",
   "execution_count": 9,
   "metadata": {},
   "outputs": [],
   "source": [
    "games['year_of_release'] = games['year_of_release'].astype('Int64')"
   ]
  },
  {
   "cell_type": "markdown",
   "metadata": {},
   "source": [
    "Необходимы для дальнейшего анализа столбец *user_score* помимо рейтинга (от 1 до 10) содержит строки 'tbd' - to be determined - рейтинг либо отсутствует, либо значений не хватает для подсчета. По факту для анализа эти значения отстутствуют.\n",
    "\n",
    "Преобразую столбец в удобный для анализа тип float, tbt значения будут заменены на NaN."
   ]
  },
  {
   "cell_type": "code",
   "execution_count": 10,
   "metadata": {
    "scrolled": true
   },
   "outputs": [
    {
     "data": {
      "text/html": [
       "<div>\n",
       "<style scoped>\n",
       "    .dataframe tbody tr th:only-of-type {\n",
       "        vertical-align: middle;\n",
       "    }\n",
       "\n",
       "    .dataframe tbody tr th {\n",
       "        vertical-align: top;\n",
       "    }\n",
       "\n",
       "    .dataframe thead th {\n",
       "        text-align: right;\n",
       "    }\n",
       "</style>\n",
       "<table border=\"1\" class=\"dataframe\">\n",
       "  <thead>\n",
       "    <tr style=\"text-align: right;\">\n",
       "      <th></th>\n",
       "      <th>name</th>\n",
       "      <th>platform</th>\n",
       "      <th>year_of_release</th>\n",
       "      <th>genre</th>\n",
       "      <th>na_sales</th>\n",
       "      <th>eu_sales</th>\n",
       "      <th>jp_sales</th>\n",
       "      <th>other_sales</th>\n",
       "      <th>critic_score</th>\n",
       "      <th>user_score</th>\n",
       "      <th>rating</th>\n",
       "    </tr>\n",
       "  </thead>\n",
       "  <tbody>\n",
       "    <tr>\n",
       "      <td>119</td>\n",
       "      <td>Zumba Fitness</td>\n",
       "      <td>Wii</td>\n",
       "      <td>2010</td>\n",
       "      <td>Sports</td>\n",
       "      <td>3.45</td>\n",
       "      <td>2.59</td>\n",
       "      <td>0.0</td>\n",
       "      <td>0.66</td>\n",
       "      <td>NaN</td>\n",
       "      <td>tbd</td>\n",
       "      <td>E</td>\n",
       "    </tr>\n",
       "    <tr>\n",
       "      <td>301</td>\n",
       "      <td>Namco Museum: 50th Anniversary</td>\n",
       "      <td>PS2</td>\n",
       "      <td>2005</td>\n",
       "      <td>Misc</td>\n",
       "      <td>2.08</td>\n",
       "      <td>1.35</td>\n",
       "      <td>0.0</td>\n",
       "      <td>0.54</td>\n",
       "      <td>61.0</td>\n",
       "      <td>tbd</td>\n",
       "      <td>E10+</td>\n",
       "    </tr>\n",
       "    <tr>\n",
       "      <td>520</td>\n",
       "      <td>Zumba Fitness 2</td>\n",
       "      <td>Wii</td>\n",
       "      <td>2011</td>\n",
       "      <td>Sports</td>\n",
       "      <td>1.51</td>\n",
       "      <td>1.03</td>\n",
       "      <td>0.0</td>\n",
       "      <td>0.27</td>\n",
       "      <td>NaN</td>\n",
       "      <td>tbd</td>\n",
       "      <td>T</td>\n",
       "    </tr>\n",
       "  </tbody>\n",
       "</table>\n",
       "</div>"
      ],
      "text/plain": [
       "                               name platform  year_of_release   genre  \\\n",
       "119                   Zumba Fitness      Wii             2010  Sports   \n",
       "301  Namco Museum: 50th Anniversary      PS2             2005    Misc   \n",
       "520                 Zumba Fitness 2      Wii             2011  Sports   \n",
       "\n",
       "     na_sales  eu_sales  jp_sales  other_sales  critic_score user_score rating  \n",
       "119      3.45      2.59       0.0         0.66           NaN        tbd      E  \n",
       "301      2.08      1.35       0.0         0.54          61.0        tbd   E10+  \n",
       "520      1.51      1.03       0.0         0.27           NaN        tbd      T  "
      ]
     },
     "execution_count": 10,
     "metadata": {},
     "output_type": "execute_result"
    }
   ],
   "source": [
    "games[games['user_score'] == 'tbd'].head(3)"
   ]
  },
  {
   "cell_type": "code",
   "execution_count": 11,
   "metadata": {},
   "outputs": [],
   "source": [
    "games['user_score'] = pd.to_numeric(games['user_score'], errors ='coerce')"
   ]
  },
  {
   "cell_type": "code",
   "execution_count": 12,
   "metadata": {},
   "outputs": [
    {
     "name": "stdout",
     "output_type": "stream",
     "text": [
      "<class 'pandas.core.frame.DataFrame'>\n",
      "Int64Index: 16444 entries, 0 to 16714\n",
      "Data columns (total 11 columns):\n",
      "name               16444 non-null object\n",
      "platform           16444 non-null object\n",
      "year_of_release    16444 non-null Int64\n",
      "genre              16444 non-null object\n",
      "na_sales           16444 non-null float64\n",
      "eu_sales           16444 non-null float64\n",
      "jp_sales           16444 non-null float64\n",
      "other_sales        16444 non-null float64\n",
      "critic_score       7983 non-null float64\n",
      "user_score         7463 non-null float64\n",
      "rating             9768 non-null object\n",
      "dtypes: Int64(1), float64(6), object(4)\n",
      "memory usage: 1.5+ MB\n"
     ]
    }
   ],
   "source": [
    "games.info()"
   ]
  },
  {
   "cell_type": "markdown",
   "metadata": {},
   "source": [
    "______\n",
    "Посчитаем суммарные продажи во всех регионах и запишем их в отдельный столбец *total_sales*"
   ]
  },
  {
   "cell_type": "code",
   "execution_count": 13,
   "metadata": {},
   "outputs": [],
   "source": [
    "games['total_sales'] = games[['na_sales','eu_sales','jp_sales','other_sales']].sum(axis=1)"
   ]
  },
  {
   "cell_type": "markdown",
   "metadata": {},
   "source": [
    "______\n",
    "В этом шаге дополнительно посмотрим на коэффициенты корреляции "
   ]
  },
  {
   "cell_type": "code",
   "execution_count": 14,
   "metadata": {
    "scrolled": true
   },
   "outputs": [
    {
     "data": {
      "text/html": [
       "<style  type=\"text/css\" >\n",
       "    #T_4e9c475c_651a_11eb_adba_02420a39543erow0_col0 {\n",
       "            background-color:  #023858;\n",
       "            color:  #f1f1f1;\n",
       "        }    #T_4e9c475c_651a_11eb_adba_02420a39543erow0_col1 {\n",
       "            background-color:  #fff7fb;\n",
       "            color:  #000000;\n",
       "        }    #T_4e9c475c_651a_11eb_adba_02420a39543erow0_col2 {\n",
       "            background-color:  #fff7fb;\n",
       "            color:  #000000;\n",
       "        }    #T_4e9c475c_651a_11eb_adba_02420a39543erow0_col3 {\n",
       "            background-color:  #fff7fb;\n",
       "            color:  #000000;\n",
       "        }    #T_4e9c475c_651a_11eb_adba_02420a39543erow0_col4 {\n",
       "            background-color:  #fff7fb;\n",
       "            color:  #000000;\n",
       "        }    #T_4e9c475c_651a_11eb_adba_02420a39543erow0_col5 {\n",
       "            background-color:  #fff7fb;\n",
       "            color:  #000000;\n",
       "        }    #T_4e9c475c_651a_11eb_adba_02420a39543erow0_col6 {\n",
       "            background-color:  #fff7fb;\n",
       "            color:  #000000;\n",
       "        }    #T_4e9c475c_651a_11eb_adba_02420a39543erow0_col7 {\n",
       "            background-color:  #fff7fb;\n",
       "            color:  #000000;\n",
       "        }    #T_4e9c475c_651a_11eb_adba_02420a39543erow1_col0 {\n",
       "            background-color:  #e9e5f1;\n",
       "            color:  #000000;\n",
       "        }    #T_4e9c475c_651a_11eb_adba_02420a39543erow1_col1 {\n",
       "            background-color:  #023858;\n",
       "            color:  #f1f1f1;\n",
       "        }    #T_4e9c475c_651a_11eb_adba_02420a39543erow1_col2 {\n",
       "            background-color:  #056dac;\n",
       "            color:  #f1f1f1;\n",
       "        }    #T_4e9c475c_651a_11eb_adba_02420a39543erow1_col3 {\n",
       "            background-color:  #65a3cb;\n",
       "            color:  #000000;\n",
       "        }    #T_4e9c475c_651a_11eb_adba_02420a39543erow1_col4 {\n",
       "            background-color:  #3790c0;\n",
       "            color:  #000000;\n",
       "        }    #T_4e9c475c_651a_11eb_adba_02420a39543erow1_col5 {\n",
       "            background-color:  #d4d4e8;\n",
       "            color:  #000000;\n",
       "        }    #T_4e9c475c_651a_11eb_adba_02420a39543erow1_col6 {\n",
       "            background-color:  #c6cce3;\n",
       "            color:  #000000;\n",
       "        }    #T_4e9c475c_651a_11eb_adba_02420a39543erow1_col7 {\n",
       "            background-color:  #03466e;\n",
       "            color:  #f1f1f1;\n",
       "        }    #T_4e9c475c_651a_11eb_adba_02420a39543erow2_col0 {\n",
       "            background-color:  #d9d8ea;\n",
       "            color:  #000000;\n",
       "        }    #T_4e9c475c_651a_11eb_adba_02420a39543erow2_col1 {\n",
       "            background-color:  #0569a5;\n",
       "            color:  #f1f1f1;\n",
       "        }    #T_4e9c475c_651a_11eb_adba_02420a39543erow2_col2 {\n",
       "            background-color:  #023858;\n",
       "            color:  #f1f1f1;\n",
       "        }    #T_4e9c475c_651a_11eb_adba_02420a39543erow2_col3 {\n",
       "            background-color:  #6ba5cd;\n",
       "            color:  #000000;\n",
       "        }    #T_4e9c475c_651a_11eb_adba_02420a39543erow2_col4 {\n",
       "            background-color:  #1379b5;\n",
       "            color:  #f1f1f1;\n",
       "        }    #T_4e9c475c_651a_11eb_adba_02420a39543erow2_col5 {\n",
       "            background-color:  #d9d8ea;\n",
       "            color:  #000000;\n",
       "        }    #T_4e9c475c_651a_11eb_adba_02420a39543erow2_col6 {\n",
       "            background-color:  #ced0e6;\n",
       "            color:  #000000;\n",
       "        }    #T_4e9c475c_651a_11eb_adba_02420a39543erow2_col7 {\n",
       "            background-color:  #03517e;\n",
       "            color:  #f1f1f1;\n",
       "        }    #T_4e9c475c_651a_11eb_adba_02420a39543erow3_col0 {\n",
       "            background-color:  #f3edf5;\n",
       "            color:  #000000;\n",
       "        }    #T_4e9c475c_651a_11eb_adba_02420a39543erow3_col1 {\n",
       "            background-color:  #75a9cf;\n",
       "            color:  #000000;\n",
       "        }    #T_4e9c475c_651a_11eb_adba_02420a39543erow3_col2 {\n",
       "            background-color:  #8eb3d5;\n",
       "            color:  #000000;\n",
       "        }    #T_4e9c475c_651a_11eb_adba_02420a39543erow3_col3 {\n",
       "            background-color:  #023858;\n",
       "            color:  #f1f1f1;\n",
       "        }    #T_4e9c475c_651a_11eb_adba_02420a39543erow3_col4 {\n",
       "            background-color:  #cccfe5;\n",
       "            color:  #000000;\n",
       "        }    #T_4e9c475c_651a_11eb_adba_02420a39543erow3_col5 {\n",
       "            background-color:  #e8e4f0;\n",
       "            color:  #000000;\n",
       "        }    #T_4e9c475c_651a_11eb_adba_02420a39543erow3_col6 {\n",
       "            background-color:  #bcc7e1;\n",
       "            color:  #000000;\n",
       "        }    #T_4e9c475c_651a_11eb_adba_02420a39543erow3_col7 {\n",
       "            background-color:  #2f8bbe;\n",
       "            color:  #000000;\n",
       "        }    #T_4e9c475c_651a_11eb_adba_02420a39543erow4_col0 {\n",
       "            background-color:  #d2d3e7;\n",
       "            color:  #000000;\n",
       "        }    #T_4e9c475c_651a_11eb_adba_02420a39543erow4_col1 {\n",
       "            background-color:  #2484ba;\n",
       "            color:  #000000;\n",
       "        }    #T_4e9c475c_651a_11eb_adba_02420a39543erow4_col2 {\n",
       "            background-color:  #1077b4;\n",
       "            color:  #f1f1f1;\n",
       "        }    #T_4e9c475c_651a_11eb_adba_02420a39543erow4_col3 {\n",
       "            background-color:  #9fbad9;\n",
       "            color:  #000000;\n",
       "        }    #T_4e9c475c_651a_11eb_adba_02420a39543erow4_col4 {\n",
       "            background-color:  #023858;\n",
       "            color:  #f1f1f1;\n",
       "        }    #T_4e9c475c_651a_11eb_adba_02420a39543erow4_col5 {\n",
       "            background-color:  #dedcec;\n",
       "            color:  #000000;\n",
       "        }    #T_4e9c475c_651a_11eb_adba_02420a39543erow4_col6 {\n",
       "            background-color:  #ced0e6;\n",
       "            color:  #000000;\n",
       "        }    #T_4e9c475c_651a_11eb_adba_02420a39543erow4_col7 {\n",
       "            background-color:  #056dab;\n",
       "            color:  #f1f1f1;\n",
       "        }    #T_4e9c475c_651a_11eb_adba_02420a39543erow5_col0 {\n",
       "            background-color:  #d7d6e9;\n",
       "            color:  #000000;\n",
       "        }    #T_4e9c475c_651a_11eb_adba_02420a39543erow5_col1 {\n",
       "            background-color:  #bfc9e1;\n",
       "            color:  #000000;\n",
       "        }    #T_4e9c475c_651a_11eb_adba_02420a39543erow5_col2 {\n",
       "            background-color:  #d8d7e9;\n",
       "            color:  #000000;\n",
       "        }    #T_4e9c475c_651a_11eb_adba_02420a39543erow5_col3 {\n",
       "            background-color:  #c8cde4;\n",
       "            color:  #000000;\n",
       "        }    #T_4e9c475c_651a_11eb_adba_02420a39543erow5_col4 {\n",
       "            background-color:  #e3e0ee;\n",
       "            color:  #000000;\n",
       "        }    #T_4e9c475c_651a_11eb_adba_02420a39543erow5_col5 {\n",
       "            background-color:  #023858;\n",
       "            color:  #f1f1f1;\n",
       "        }    #T_4e9c475c_651a_11eb_adba_02420a39543erow5_col6 {\n",
       "            background-color:  #2484ba;\n",
       "            color:  #000000;\n",
       "        }    #T_4e9c475c_651a_11eb_adba_02420a39543erow5_col7 {\n",
       "            background-color:  #c0c9e2;\n",
       "            color:  #000000;\n",
       "        }    #T_4e9c475c_651a_11eb_adba_02420a39543erow6_col0 {\n",
       "            background-color:  #fff7fb;\n",
       "            color:  #000000;\n",
       "        }    #T_4e9c475c_651a_11eb_adba_02420a39543erow6_col1 {\n",
       "            background-color:  #e4e1ef;\n",
       "            color:  #000000;\n",
       "        }    #T_4e9c475c_651a_11eb_adba_02420a39543erow6_col2 {\n",
       "            background-color:  #f7f0f7;\n",
       "            color:  #000000;\n",
       "        }    #T_4e9c475c_651a_11eb_adba_02420a39543erow6_col3 {\n",
       "            background-color:  #d0d1e6;\n",
       "            color:  #000000;\n",
       "        }    #T_4e9c475c_651a_11eb_adba_02420a39543erow6_col4 {\n",
       "            background-color:  #fcf4fa;\n",
       "            color:  #000000;\n",
       "        }    #T_4e9c475c_651a_11eb_adba_02420a39543erow6_col5 {\n",
       "            background-color:  #4e9ac6;\n",
       "            color:  #000000;\n",
       "        }    #T_4e9c475c_651a_11eb_adba_02420a39543erow6_col6 {\n",
       "            background-color:  #023858;\n",
       "            color:  #f1f1f1;\n",
       "        }    #T_4e9c475c_651a_11eb_adba_02420a39543erow6_col7 {\n",
       "            background-color:  #e6e2ef;\n",
       "            color:  #000000;\n",
       "        }    #T_4e9c475c_651a_11eb_adba_02420a39543erow7_col0 {\n",
       "            background-color:  #e7e3f0;\n",
       "            color:  #000000;\n",
       "        }    #T_4e9c475c_651a_11eb_adba_02420a39543erow7_col1 {\n",
       "            background-color:  #03466e;\n",
       "            color:  #f1f1f1;\n",
       "        }    #T_4e9c475c_651a_11eb_adba_02420a39543erow7_col2 {\n",
       "            background-color:  #045382;\n",
       "            color:  #f1f1f1;\n",
       "        }    #T_4e9c475c_651a_11eb_adba_02420a39543erow7_col3 {\n",
       "            background-color:  #2484ba;\n",
       "            color:  #000000;\n",
       "        }    #T_4e9c475c_651a_11eb_adba_02420a39543erow7_col4 {\n",
       "            background-color:  #0872b1;\n",
       "            color:  #f1f1f1;\n",
       "        }    #T_4e9c475c_651a_11eb_adba_02420a39543erow7_col5 {\n",
       "            background-color:  #d3d4e7;\n",
       "            color:  #000000;\n",
       "        }    #T_4e9c475c_651a_11eb_adba_02420a39543erow7_col6 {\n",
       "            background-color:  #c6cce3;\n",
       "            color:  #000000;\n",
       "        }    #T_4e9c475c_651a_11eb_adba_02420a39543erow7_col7 {\n",
       "            background-color:  #023858;\n",
       "            color:  #f1f1f1;\n",
       "        }</style><table id=\"T_4e9c475c_651a_11eb_adba_02420a39543e\" ><thead>    <tr>        <th class=\"blank level0\" ></th>        <th class=\"col_heading level0 col0\" >year_of_release</th>        <th class=\"col_heading level0 col1\" >na_sales</th>        <th class=\"col_heading level0 col2\" >eu_sales</th>        <th class=\"col_heading level0 col3\" >jp_sales</th>        <th class=\"col_heading level0 col4\" >other_sales</th>        <th class=\"col_heading level0 col5\" >critic_score</th>        <th class=\"col_heading level0 col6\" >user_score</th>        <th class=\"col_heading level0 col7\" >total_sales</th>    </tr></thead><tbody>\n",
       "                <tr>\n",
       "                        <th id=\"T_4e9c475c_651a_11eb_adba_02420a39543elevel0_row0\" class=\"row_heading level0 row0\" >year_of_release</th>\n",
       "                        <td id=\"T_4e9c475c_651a_11eb_adba_02420a39543erow0_col0\" class=\"data row0 col0\" >1</td>\n",
       "                        <td id=\"T_4e9c475c_651a_11eb_adba_02420a39543erow0_col1\" class=\"data row0 col1\" >-0.0923264</td>\n",
       "                        <td id=\"T_4e9c475c_651a_11eb_adba_02420a39543erow0_col2\" class=\"data row0 col2\" >0.00404478</td>\n",
       "                        <td id=\"T_4e9c475c_651a_11eb_adba_02420a39543erow0_col3\" class=\"data row0 col3\" >-0.168477</td>\n",
       "                        <td id=\"T_4e9c475c_651a_11eb_adba_02420a39543erow0_col4\" class=\"data row0 col4\" >0.0378211</td>\n",
       "                        <td id=\"T_4e9c475c_651a_11eb_adba_02420a39543erow0_col5\" class=\"data row0 col5\" >0.011411</td>\n",
       "                        <td id=\"T_4e9c475c_651a_11eb_adba_02420a39543erow0_col6\" class=\"data row0 col6\" >-0.267851</td>\n",
       "                        <td id=\"T_4e9c475c_651a_11eb_adba_02420a39543erow0_col7\" class=\"data row0 col7\" >-0.0762203</td>\n",
       "            </tr>\n",
       "            <tr>\n",
       "                        <th id=\"T_4e9c475c_651a_11eb_adba_02420a39543elevel0_row1\" class=\"row_heading level0 row1\" >na_sales</th>\n",
       "                        <td id=\"T_4e9c475c_651a_11eb_adba_02420a39543erow1_col0\" class=\"data row1 col0\" >-0.0923264</td>\n",
       "                        <td id=\"T_4e9c475c_651a_11eb_adba_02420a39543erow1_col1\" class=\"data row1 col1\" >1</td>\n",
       "                        <td id=\"T_4e9c475c_651a_11eb_adba_02420a39543erow1_col2\" class=\"data row1 col2\" >0.766546</td>\n",
       "                        <td id=\"T_4e9c475c_651a_11eb_adba_02420a39543erow1_col3\" class=\"data row1 col3\" >0.451162</td>\n",
       "                        <td id=\"T_4e9c475c_651a_11eb_adba_02420a39543erow1_col4\" class=\"data row1 col4\" >0.638479</td>\n",
       "                        <td id=\"T_4e9c475c_651a_11eb_adba_02420a39543erow1_col5\" class=\"data row1 col5\" >0.240083</td>\n",
       "                        <td id=\"T_4e9c475c_651a_11eb_adba_02420a39543erow1_col6\" class=\"data row1 col6\" >0.0855492</td>\n",
       "                        <td id=\"T_4e9c475c_651a_11eb_adba_02420a39543erow1_col7\" class=\"data row1 col7\" >0.941241</td>\n",
       "            </tr>\n",
       "            <tr>\n",
       "                        <th id=\"T_4e9c475c_651a_11eb_adba_02420a39543elevel0_row2\" class=\"row_heading level0 row2\" >eu_sales</th>\n",
       "                        <td id=\"T_4e9c475c_651a_11eb_adba_02420a39543erow2_col0\" class=\"data row2 col0\" >0.00404478</td>\n",
       "                        <td id=\"T_4e9c475c_651a_11eb_adba_02420a39543erow2_col1\" class=\"data row2 col1\" >0.766546</td>\n",
       "                        <td id=\"T_4e9c475c_651a_11eb_adba_02420a39543erow2_col2\" class=\"data row2 col2\" >1</td>\n",
       "                        <td id=\"T_4e9c475c_651a_11eb_adba_02420a39543erow2_col3\" class=\"data row2 col3\" >0.435894</td>\n",
       "                        <td id=\"T_4e9c475c_651a_11eb_adba_02420a39543erow2_col4\" class=\"data row2 col4\" >0.722679</td>\n",
       "                        <td id=\"T_4e9c475c_651a_11eb_adba_02420a39543erow2_col5\" class=\"data row2 col5\" >0.221276</td>\n",
       "                        <td id=\"T_4e9c475c_651a_11eb_adba_02420a39543erow2_col6\" class=\"data row2 col6\" >0.0555299</td>\n",
       "                        <td id=\"T_4e9c475c_651a_11eb_adba_02420a39543erow2_col7\" class=\"data row2 col7\" >0.901673</td>\n",
       "            </tr>\n",
       "            <tr>\n",
       "                        <th id=\"T_4e9c475c_651a_11eb_adba_02420a39543elevel0_row3\" class=\"row_heading level0 row3\" >jp_sales</th>\n",
       "                        <td id=\"T_4e9c475c_651a_11eb_adba_02420a39543erow3_col0\" class=\"data row3 col0\" >-0.168477</td>\n",
       "                        <td id=\"T_4e9c475c_651a_11eb_adba_02420a39543erow3_col1\" class=\"data row3 col1\" >0.451162</td>\n",
       "                        <td id=\"T_4e9c475c_651a_11eb_adba_02420a39543erow3_col2\" class=\"data row3 col2\" >0.435894</td>\n",
       "                        <td id=\"T_4e9c475c_651a_11eb_adba_02420a39543erow3_col3\" class=\"data row3 col3\" >1</td>\n",
       "                        <td id=\"T_4e9c475c_651a_11eb_adba_02420a39543erow3_col4\" class=\"data row3 col4\" >0.291562</td>\n",
       "                        <td id=\"T_4e9c475c_651a_11eb_adba_02420a39543erow3_col5\" class=\"data row3 col5\" >0.153474</td>\n",
       "                        <td id=\"T_4e9c475c_651a_11eb_adba_02420a39543erow3_col6\" class=\"data row3 col6\" >0.126372</td>\n",
       "                        <td id=\"T_4e9c475c_651a_11eb_adba_02420a39543erow3_col7\" class=\"data row3 col7\" >0.613305</td>\n",
       "            </tr>\n",
       "            <tr>\n",
       "                        <th id=\"T_4e9c475c_651a_11eb_adba_02420a39543elevel0_row4\" class=\"row_heading level0 row4\" >other_sales</th>\n",
       "                        <td id=\"T_4e9c475c_651a_11eb_adba_02420a39543erow4_col0\" class=\"data row4 col0\" >0.0378211</td>\n",
       "                        <td id=\"T_4e9c475c_651a_11eb_adba_02420a39543erow4_col1\" class=\"data row4 col1\" >0.638479</td>\n",
       "                        <td id=\"T_4e9c475c_651a_11eb_adba_02420a39543erow4_col2\" class=\"data row4 col2\" >0.722679</td>\n",
       "                        <td id=\"T_4e9c475c_651a_11eb_adba_02420a39543erow4_col3\" class=\"data row4 col3\" >0.291562</td>\n",
       "                        <td id=\"T_4e9c475c_651a_11eb_adba_02420a39543erow4_col4\" class=\"data row4 col4\" >1</td>\n",
       "                        <td id=\"T_4e9c475c_651a_11eb_adba_02420a39543erow4_col5\" class=\"data row4 col5\" >0.19841</td>\n",
       "                        <td id=\"T_4e9c475c_651a_11eb_adba_02420a39543erow4_col6\" class=\"data row4 col6\" >0.0569351</td>\n",
       "                        <td id=\"T_4e9c475c_651a_11eb_adba_02420a39543erow4_col7\" class=\"data row4 col7\" >0.74893</td>\n",
       "            </tr>\n",
       "            <tr>\n",
       "                        <th id=\"T_4e9c475c_651a_11eb_adba_02420a39543elevel0_row5\" class=\"row_heading level0 row5\" >critic_score</th>\n",
       "                        <td id=\"T_4e9c475c_651a_11eb_adba_02420a39543erow5_col0\" class=\"data row5 col0\" >0.011411</td>\n",
       "                        <td id=\"T_4e9c475c_651a_11eb_adba_02420a39543erow5_col1\" class=\"data row5 col1\" >0.240083</td>\n",
       "                        <td id=\"T_4e9c475c_651a_11eb_adba_02420a39543erow5_col2\" class=\"data row5 col2\" >0.221276</td>\n",
       "                        <td id=\"T_4e9c475c_651a_11eb_adba_02420a39543erow5_col3\" class=\"data row5 col3\" >0.153474</td>\n",
       "                        <td id=\"T_4e9c475c_651a_11eb_adba_02420a39543erow5_col4\" class=\"data row5 col4\" >0.19841</td>\n",
       "                        <td id=\"T_4e9c475c_651a_11eb_adba_02420a39543erow5_col5\" class=\"data row5 col5\" >1</td>\n",
       "                        <td id=\"T_4e9c475c_651a_11eb_adba_02420a39543erow5_col6\" class=\"data row5 col6\" >0.579671</td>\n",
       "                        <td id=\"T_4e9c475c_651a_11eb_adba_02420a39543erow5_col7\" class=\"data row5 col7\" >0.245349</td>\n",
       "            </tr>\n",
       "            <tr>\n",
       "                        <th id=\"T_4e9c475c_651a_11eb_adba_02420a39543elevel0_row6\" class=\"row_heading level0 row6\" >user_score</th>\n",
       "                        <td id=\"T_4e9c475c_651a_11eb_adba_02420a39543erow6_col0\" class=\"data row6 col0\" >-0.267851</td>\n",
       "                        <td id=\"T_4e9c475c_651a_11eb_adba_02420a39543erow6_col1\" class=\"data row6 col1\" >0.0855492</td>\n",
       "                        <td id=\"T_4e9c475c_651a_11eb_adba_02420a39543erow6_col2\" class=\"data row6 col2\" >0.0555299</td>\n",
       "                        <td id=\"T_4e9c475c_651a_11eb_adba_02420a39543erow6_col3\" class=\"data row6 col3\" >0.126372</td>\n",
       "                        <td id=\"T_4e9c475c_651a_11eb_adba_02420a39543erow6_col4\" class=\"data row6 col4\" >0.0569351</td>\n",
       "                        <td id=\"T_4e9c475c_651a_11eb_adba_02420a39543erow6_col5\" class=\"data row6 col5\" >0.579671</td>\n",
       "                        <td id=\"T_4e9c475c_651a_11eb_adba_02420a39543erow6_col6\" class=\"data row6 col6\" >1</td>\n",
       "                        <td id=\"T_4e9c475c_651a_11eb_adba_02420a39543erow6_col7\" class=\"data row6 col7\" >0.087984</td>\n",
       "            </tr>\n",
       "            <tr>\n",
       "                        <th id=\"T_4e9c475c_651a_11eb_adba_02420a39543elevel0_row7\" class=\"row_heading level0 row7\" >total_sales</th>\n",
       "                        <td id=\"T_4e9c475c_651a_11eb_adba_02420a39543erow7_col0\" class=\"data row7 col0\" >-0.0762203</td>\n",
       "                        <td id=\"T_4e9c475c_651a_11eb_adba_02420a39543erow7_col1\" class=\"data row7 col1\" >0.941241</td>\n",
       "                        <td id=\"T_4e9c475c_651a_11eb_adba_02420a39543erow7_col2\" class=\"data row7 col2\" >0.901673</td>\n",
       "                        <td id=\"T_4e9c475c_651a_11eb_adba_02420a39543erow7_col3\" class=\"data row7 col3\" >0.613305</td>\n",
       "                        <td id=\"T_4e9c475c_651a_11eb_adba_02420a39543erow7_col4\" class=\"data row7 col4\" >0.74893</td>\n",
       "                        <td id=\"T_4e9c475c_651a_11eb_adba_02420a39543erow7_col5\" class=\"data row7 col5\" >0.245349</td>\n",
       "                        <td id=\"T_4e9c475c_651a_11eb_adba_02420a39543erow7_col6\" class=\"data row7 col6\" >0.087984</td>\n",
       "                        <td id=\"T_4e9c475c_651a_11eb_adba_02420a39543erow7_col7\" class=\"data row7 col7\" >1</td>\n",
       "            </tr>\n",
       "    </tbody></table>"
      ],
      "text/plain": [
       "<pandas.io.formats.style.Styler at 0x7fc0460bb790>"
      ]
     },
     "execution_count": 14,
     "metadata": {},
     "output_type": "execute_result"
    }
   ],
   "source": [
    "games.corr().style.background_gradient('PuBu')"
   ]
  },
  {
   "cell_type": "markdown",
   "metadata": {},
   "source": [
    "Интересно, что общие продажи на прямую не зависят от рейтинга пользователей - коэффициент 0.088!"
   ]
  },
  {
   "cell_type": "markdown",
   "metadata": {},
   "source": [
    "_______\n",
    "Посмотрим на названия платформ, жанров и рейтингов."
   ]
  },
  {
   "cell_type": "code",
   "execution_count": 15,
   "metadata": {},
   "outputs": [
    {
     "data": {
      "text/plain": [
       "array(['Wii', 'NES', 'GB', 'DS', 'X360', 'PS3', 'PS2', 'SNES', 'GBA',\n",
       "       'PS4', '3DS', 'N64', 'PS', 'XB', 'PC', '2600', 'PSP', 'XOne',\n",
       "       'WiiU', 'GC', 'GEN', 'DC', 'PSV', 'SAT', 'SCD', 'WS', 'NG', 'TG16',\n",
       "       '3DO', 'GG', 'PCFX'], dtype=object)"
      ]
     },
     "execution_count": 15,
     "metadata": {},
     "output_type": "execute_result"
    }
   ],
   "source": [
    "#названия всех платформ\n",
    "games['platform'].unique()"
   ]
  },
  {
   "cell_type": "code",
   "execution_count": 16,
   "metadata": {},
   "outputs": [
    {
     "data": {
      "text/plain": [
       "array(['Sports', 'Platform', 'Racing', 'Role-Playing', 'Puzzle', 'Misc',\n",
       "       'Shooter', 'Simulation', 'Action', 'Fighting', 'Adventure',\n",
       "       'Strategy'], dtype=object)"
      ]
     },
     "execution_count": 16,
     "metadata": {},
     "output_type": "execute_result"
    }
   ],
   "source": [
    "#названия всех жанров\n",
    "games['genre'].unique()"
   ]
  },
  {
   "cell_type": "code",
   "execution_count": 17,
   "metadata": {},
   "outputs": [
    {
     "data": {
      "text/plain": [
       "array(['E', nan, 'M', 'T', 'E10+', 'K-A', 'AO', 'EC', 'RP'], dtype=object)"
      ]
     },
     "execution_count": 17,
     "metadata": {},
     "output_type": "execute_result"
    }
   ],
   "source": [
    "#названия рейтингов\n",
    "games['rating'].unique()"
   ]
  },
  {
   "cell_type": "markdown",
   "metadata": {},
   "source": [
    "### Вывод по подготовке данных\n",
    "\n",
    "- названия столбцов приведены к нижнему регистру\n",
    "- удалены строки с пропусками в столбцах *name*, *year_of_release*, *genre*. \n",
    "\n",
    "Пропуски в этих столбцах могут вызванны сбором данных из разных источников. Пропуски же в столбцах с рейтингом, скорее связаны просто с отстуствие таковых у данных игр. Возможно для старых игр рейтинг не формировался или игра отсутствовала в базе с рейтингами.\n",
    "- тип данных в столбце *year_of_release* изменен на int для корректного отображения на графиках\n",
    "- тип данных в столбце *user_score* заменен на float, значения 'tbd' (рейтинг еще не подсчитан) заменениы на NaN\n",
    "- в столбце *total_sales* посчитаны суммарные продажи повсем регионам\n",
    "- в описание данных <a href='#data_description'>добавлена</a> расшифорвка ESRB рейтинга из столбца *rating*\n"
   ]
  },
  {
   "cell_type": "markdown",
   "metadata": {},
   "source": [
    "</span><a id='data_analysis'></a>\n",
    "__________\n",
    "## 3. Исследовательский анализ данных "
   ]
  },
  {
   "cell_type": "markdown",
   "metadata": {},
   "source": [
    "Посмотрим, сколько игр выпускалось в разные годы."
   ]
  },
  {
   "cell_type": "code",
   "execution_count": 18,
   "metadata": {
    "scrolled": false
   },
   "outputs": [
    {
     "data": {
      "image/png": "[encoded data removed]",
      "text/plain": [
       "<Figure size 1080x360 with 1 Axes>"
      ]
     },
     "metadata": {
      "needs_background": "light"
     },
     "output_type": "display_data"
    }
   ],
   "source": [
    "#сгруппируем по дате релиза и поситаем количество игр выпущенное по годам\n",
    "years_grouped = games.groupby('year_of_release').agg({'name':'count'})\n",
    "years_grouped.columns = ['qty_of_releases']\n",
    "years_grouped.plot(kind='bar', figsize=(15,5), rot=45)\n",
    "plt.title('Qty of releases')\n",
    "plt.show()"
   ]
  },
  {
   "cell_type": "markdown",
   "metadata": {},
   "source": [
    "Активное развитие рынка видеоигр в 90-е, 2000-е были игровым бумом (пиковые продажи), в 2012 ситуация сильно поменялась - выпускать игр стали значительно меньше (возможно количество прешло в качество). Для прогноза на 2017 год, можно ориентироваться на текущую ситуацию, которая характеризуется 2013-2016 годами."
   ]
  },
  {
   "cell_type": "markdown",
   "metadata": {},
   "source": [
    "_________\n",
    "Посмотрим, как менялись продажи по платформам. Выберем платформы с наибольшими суммарными продажами и построим распределение по годам. За какой характерный срок появляются новые и исчезают старые платформы?\n"
   ]
  },
  {
   "cell_type": "code",
   "execution_count": 19,
   "metadata": {},
   "outputs": [],
   "source": [
    "#посмотрим сколько игр было выпущено для каждой платформы\n",
    "platform_year_grouped = (games.groupby(['platform','year_of_release'])\n",
    "                                .agg({'total_sales':'sum'}).reset_index())"
   ]
  },
  {
   "cell_type": "code",
   "execution_count": 20,
   "metadata": {},
   "outputs": [
    {
     "data": {
      "image/png": "[encoded data removed]",
      "text/plain": [
       "<Figure size 720x360 with 1 Axes>"
      ]
     },
     "metadata": {
      "needs_background": "light"
     },
     "output_type": "display_data"
    }
   ],
   "source": [
    "#в течении скольки лет для каждой из платформ выпускались игры\n",
    "year_for_platform = (platform_year_grouped.groupby('platform')['year_of_release'].count()\n",
    "                                        .sort_values(ascending=False))\n",
    "year_for_platform.plot(kind='bar', figsize=(10,5), rot=45,colormap='Accent')\n",
    "plt.title('Years of releases by platform')\n",
    "plt.ylabel('Years of releases')\n",
    "plt.show()\n"
   ]
  },
  {
   "cell_type": "markdown",
   "metadata": {},
   "source": [
    "Для PC игры выпускались дольше всего. Самая живучая платформа для игр."
   ]
  },
  {
   "cell_type": "markdown",
   "metadata": {},
   "source": [
    "Посмотрим как долго в среднем выпускают игры для каждой платформы без учета PC"
   ]
  },
  {
   "cell_type": "code",
   "execution_count": 21,
   "metadata": {},
   "outputs": [
    {
     "data": {
      "text/plain": [
       "count    30.000000\n",
       "mean      7.066667\n",
       "std       3.841097\n",
       "min       1.000000\n",
       "25%       4.000000\n",
       "50%       7.000000\n",
       "75%      10.750000\n",
       "max      13.000000\n",
       "Name: year_of_release, dtype: float64"
      ]
     },
     "execution_count": 21,
     "metadata": {},
     "output_type": "execute_result"
    }
   ],
   "source": [
    "platform_year_grouped.query('platform != \"PC\" ').groupby('platform')['year_of_release'].count().describe()"
   ]
  },
  {
   "cell_type": "markdown",
   "metadata": {},
   "source": [
    "В среднем для одной платформы игры выпускались в течении  7 лет."
   ]
  },
  {
   "cell_type": "markdown",
   "metadata": {},
   "source": [
    "Выделим платформы с наибольшими суммарными продажами *top_sales_plat*"
   ]
  },
  {
   "cell_type": "code",
   "execution_count": 22,
   "metadata": {
    "scrolled": false
   },
   "outputs": [
    {
     "data": {
      "image/png": "[encoded data removed]",
      "text/plain": [
       "<Figure size 720x360 with 1 Axes>"
      ]
     },
     "metadata": {
      "needs_background": "light"
     },
     "output_type": "display_data"
    }
   ],
   "source": [
    "top_sales_plat = (platform_year_grouped.groupby('platform')['total_sales']\n",
    "                  .sum().reset_index().sort_values(by='total_sales', ascending=False) )\n",
    "top_sales_plat.plot(x='platform',kind='bar',figsize=(10,5), rot=45, colormap='Accent_r')\n",
    "plt.title('Total sales by platform')\n",
    "plt.show()"
   ]
  },
  {
   "cell_type": "markdown",
   "metadata": {},
   "source": [
    "Производители явно зарабатывают не на продажах игр для PC (11е место).  \n",
    "Определим топ платформы, как платформы с количеством проданных копий больше 600 млн."
   ]
  },
  {
   "cell_type": "code",
   "execution_count": 23,
   "metadata": {},
   "outputs": [
    {
     "name": "stdout",
     "output_type": "stream",
     "text": [
      "PS2\n",
      "X360\n",
      "PS3\n",
      "Wii\n",
      "DS\n",
      "PS\n"
     ]
    }
   ],
   "source": [
    "#в топ по суммарным продажам попадают следующие платформы\n",
    "top = top_sales_plat.query('total_sales > 600')['platform'].unique()\n",
    "print(*top, sep='\\n')"
   ]
  },
  {
   "cell_type": "markdown",
   "metadata": {},
   "source": [
    "Посмотрим, как меняли продажи по топ платформам."
   ]
  },
  {
   "cell_type": "code",
   "execution_count": 24,
   "metadata": {
    "scrolled": false
   },
   "outputs": [
    {
     "data": {
      "image/png": "[encoded data removed]",
      "text/plain": [
       "<Figure size 936x360 with 1 Axes>"
      ]
     },
     "metadata": {
      "needs_background": "light"
     },
     "output_type": "display_data"
    }
   ],
   "source": [
    "fig, ax = plt.subplots(figsize = (15,3))\n",
    "pd.pivot_table(platform_year_grouped.query('platform in @top'),\n",
    "               index='year_of_release',columns='platform',\n",
    "                values='total_sales', aggfunc = 'sum').plot(grid=True, figsize=(13,5),ax=ax)\n",
    "plt.title('Top platforms total sales')\n",
    "plt.xlim(1992,2016) \n",
    "plt.ylabel('Copies sold, mln')\n",
    "plt.show()"
   ]
  },
  {
   "cell_type": "markdown",
   "metadata": {},
   "source": [
    "Исходя из графика можно сказать, что для топ платформ производители выпускают игры примерно в течении 10 лет. Примерно после 5 лет начинается спад в продажах, а через 7 лет с момента выпуска платформы - появляется ее новая версия."
   ]
  },
  {
   "cell_type": "markdown",
   "metadata": {},
   "source": [
    "___________\n",
    "Рынок игровых активно меняется, для составления прогноза на 2017 определим актуальный период с 2013г, но график построим с 2012 - так  будет видно, когда появилось два текущих лидера - PS4 и XOne"
   ]
  },
  {
   "cell_type": "code",
   "execution_count": 25,
   "metadata": {},
   "outputs": [
    {
     "data": {
      "image/png": "[encoded data removed]",
      "text/plain": [
       "<Figure size 648x360 with 1 Axes>"
      ]
     },
     "metadata": {
      "needs_background": "light"
     },
     "output_type": "display_data"
    }
   ],
   "source": [
    "fig, ax = plt.subplots(figsize = (8,6))\n",
    "pd.pivot_table(platform_year_grouped.query('year_of_release >= 2012'),\n",
    "               index='year_of_release',columns='platform',\n",
    "                values='total_sales', aggfunc = 'sum').plot(figsize=(9,5),ax=ax)\n",
    "plt.title('Sales by platform from 2012')\n",
    "plt.xlim(2012,2016) \n",
    "plt.ylabel('Copies sold, mln')\n",
    "plt.show()"
   ]
  },
  {
   "cell_type": "markdown",
   "metadata": {},
   "source": [
    "Достаточно много графиков для оценки, выделим топовые платформы по продажам с 2013 г."
   ]
  },
  {
   "cell_type": "code",
   "execution_count": 26,
   "metadata": {
    "scrolled": false
   },
   "outputs": [
    {
     "data": {
      "image/png": "[encoded data removed]",
      "text/plain": [
       "<Figure size 576x360 with 1 Axes>"
      ]
     },
     "metadata": {
      "needs_background": "light"
     },
     "output_type": "display_data"
    }
   ],
   "source": [
    "current_period = (platform_year_grouped.query('year_of_release >= 2013')\n",
    "                  .groupby('platform')['total_sales']\n",
    "                  .sum()\n",
    "                  .reset_index()\n",
    "                    .sort_values(by='total_sales', ascending=False)\n",
    "                      .reset_index(drop=True))\n",
    "\n",
    "current_period.plot(kind='bar',x='platform',figsize=(8,5),rot=45)\n",
    "plt.title('Top platforms by sales from 2013')\n",
    "plt.ylabel('Copies sold, mln')\n",
    "plt.show()"
   ]
  },
  {
   "cell_type": "markdown",
   "metadata": {},
   "source": [
    "В актуальном периоде по продажам лидирует 5 платформ ( продажи более 100млн. копий )\n",
    "- PS 4\n",
    "- PS 3 \n",
    "- XOne\n",
    "- 3DS\n",
    "- X360\n",
    "\n",
    "Построим график по продажам этих платформ за актуальный период (с 2013г.)"
   ]
  },
  {
   "cell_type": "code",
   "execution_count": 27,
   "metadata": {
    "scrolled": true
   },
   "outputs": [
    {
     "data": {
      "image/png": "[encoded data removed]",
      "text/plain": [
       "<Figure size 576x360 with 1 Axes>"
      ]
     },
     "metadata": {
      "needs_background": "light"
     },
     "output_type": "display_data"
    }
   ],
   "source": [
    "current_top_platform = current_period.query('total_sales > 100')['platform'].unique()\n",
    "fig, ax = plt.subplots(figsize = (8,6))\n",
    "pd.pivot_table(platform_year_grouped.query('year_of_release >= 2013 and platform in @current_top_platform'),\n",
    "               index='year_of_release',columns='platform',\n",
    "                values='total_sales', aggfunc = 'sum').plot(figsize=(8,5),ax=ax)\n",
    "plt.title('Sales by top platforms from 2013')\n",
    "plt.xlim(2013,2016) \n",
    "plt.ylabel('Copies sold, mln')\n",
    "plt.show()\n"
   ]
  },
  {
   "cell_type": "markdown",
   "metadata": {},
   "source": [
    "Скорее всего данные за 2016г. являются неполными. Это так же было отмечено в описании к данным.  \n",
    "В текущем периоде можно выделить две перспективные с токи зрения роста платформы - PS4 и XOne, думаю что в 2016 они продолжили рост."
   ]
  },
  {
   "cell_type": "markdown",
   "metadata": {},
   "source": [
    "Построим график \"ящик с усами\" по глобальным продажам игр по двум платформам - PS4 и XOne."
   ]
  },
  {
   "cell_type": "code",
   "execution_count": 28,
   "metadata": {},
   "outputs": [
    {
     "data": {
      "image/png": "[encoded data removed]",
      "text/plain": [
       "<Figure size 216x504 with 1 Axes>"
      ]
     },
     "metadata": {
      "needs_background": "light"
     },
     "output_type": "display_data"
    },
    {
     "data": {
      "text/plain": [
       "platform\n",
       "PS4     314.14\n",
       "XOne    159.32\n",
       "Name: total_sales, dtype: float64"
      ]
     },
     "execution_count": 28,
     "metadata": {},
     "output_type": "execute_result"
    }
   ],
   "source": [
    "def platformBoxplot (query1, query2): #этот график мне еще понадобится\n",
    "    plt.figure(figsize=(3,7)) #увеличивал размер графика до (5,25) что бы было нагляднее \n",
    "    plt.boxplot([games.query(query1)['total_sales'],\n",
    "            games.query(query2)['total_sales']],\n",
    "           labels = ['PS4','XOne'])\n",
    "    plt.title('Total sales')\n",
    "    plt.ylabel('total sales, mln ')\n",
    "    plt.show()\n",
    "    return plt.show()\n",
    "\n",
    "platformBoxplot('platform == \"PS4\"','platform == \"XOne\"' )\n",
    "#общие продажи по двум платформам\n",
    "games.query('platform in [\"PS4\",\"XOne\"]').groupby('platform')['total_sales'].sum()"
   ]
  },
  {
   "cell_type": "markdown",
   "metadata": {},
   "source": [
    "Графики выглядят достаточно похоже, однако сильно выделяются хиты на PS4 - игры с общими продажами более 6 млн. копий.  \n",
    "График не говорит о том, что платформы одинаково успешны, это лишь показыват то, что количество проданных копий игр распределяется похожим образом на этих платформах.  \n",
    "Интересно, что продажи отличаются в 2 раза!  \n",
    "Решил разобраться почему - может это хиты так \"вытягивают\" в лидеры PS4? "
   ]
  },
  {
   "cell_type": "code",
   "execution_count": 29,
   "metadata": {},
   "outputs": [
    {
     "name": "stdout",
     "output_type": "stream",
     "text": [
      "Сумма проданных копий с играми от 6млн в общих продажах PS4 72.32000000000001\n",
      "Те же игры на XOne 34.08\n",
      "\n",
      "Продажи без хитов platform\n",
      "PS4     241.82\n",
      "XOne    125.24\n",
      "Name: total_sales, dtype: float64\n"
     ]
    }
   ],
   "source": [
    "#смотрим, что за топ игры на PS4\n",
    "top_games = games.query('platform == \"PS4\" and total_sales > 6')['name'].unique() \n",
    "print ('Сумма проданных копий с играми от 6млн в общих продажах PS4',games.\n",
    "       query('platform == \"PS4\" and total_sales > 6')['total_sales']\n",
    "       .sum()) \n",
    "#те же игры на XOne\n",
    "print ('Те же игры на XOne',games.query('name in @top_games and platform == \"XOne\"')['total_sales'].sum())\n",
    "print()\n",
    "#теперь продажи без хитов\n",
    "print ('Продажи без хитов',games.query('platform in [\"PS4\",\"XOne\"] and name not in @top_games ')\n",
    "       .groupby('platform')['total_sales']\n",
    "       .sum())\n",
    "#разница без хитов так же в 2 раза."
   ]
  },
  {
   "cell_type": "markdown",
   "metadata": {},
   "source": [
    "Дело не в хитах, проверим на играх, которые были выпущены на обоих платформах. Действительно ли PS4 более успешна?"
   ]
  },
  {
   "cell_type": "code",
   "execution_count": 30,
   "metadata": {},
   "outputs": [
    {
     "data": {
      "image/png": "[encoded data removed]",
      "text/plain": [
       "<Figure size 216x504 with 1 Axes>"
      ]
     },
     "metadata": {
      "needs_background": "light"
     },
     "output_type": "display_data"
    },
    {
     "data": {
      "text/plain": [
       "platform\n",
       "PS4     314.14\n",
       "XOne    159.32\n",
       "Name: total_sales, dtype: float64"
      ]
     },
     "execution_count": 30,
     "metadata": {},
     "output_type": "execute_result"
    }
   ],
   "source": [
    "#составим список толко тех игр, которые были выпущены для обоих платформ.\n",
    "both_platforms_games = (games.query('platform in [\"PS4\",\"XOne\"]')[['platform','name']]\n",
    "    .groupby('name')\n",
    "    .count()\n",
    "    .reset_index()\n",
    "    .query('platform == 2')['name']\n",
    "    .unique())\n",
    "#таких игр 217\n",
    "(games.query('platform in [\"PS4\",\"XOne\"] and name in @both_platforms_games')\n",
    "    .groupby('platform')['total_sales']\n",
    "    .sum())\n",
    "\n",
    "platformBoxplot ('platform == \"PS4\" and name in @both_platforms_games',\n",
    "                'platform == \"XOne\" and name in @both_platforms_games')\n",
    "\n",
    "games.query('platform in [\"PS4\",\"XOne\"]').groupby('platform')['total_sales'].sum()"
   ]
  },
  {
   "cell_type": "markdown",
   "metadata": {},
   "source": [
    "Можно сделать вывод, что платформа PS4 успешеннее для выпуска игр, анализируя только игры выпущенные и для PS4 и для XOne продажи для PS4 в среднем были выше."
   ]
  },
  {
   "cell_type": "markdown",
   "metadata": {},
   "source": [
    "_____________\n",
    "Посмотрим, как влияют на продажи внутри одной популярной платформы отзывы пользователей и критиков. Построим диаграмму рассеяния и посчитаем корреляцию между отзывами и продажами.\n",
    "Сделаем для двух новых платформ  - PS4 и XOne.\n"
   ]
  },
  {
   "cell_type": "code",
   "execution_count": 31,
   "metadata": {},
   "outputs": [
    {
     "data": {
      "image/png": "[encoded data removed]",
      "text/plain": [
       "<Figure size 432x288 with 1 Axes>"
      ]
     },
     "metadata": {
      "needs_background": "light"
     },
     "output_type": "display_data"
    },
    {
     "data": {
      "image/png": "[encoded data removed]",
      "text/plain": [
       "<Figure size 432x288 with 1 Axes>"
      ]
     },
     "metadata": {
      "needs_background": "light"
     },
     "output_type": "display_data"
    }
   ],
   "source": [
    "ps4 = games.query('platform == \"PS4\"')[['total_sales','user_score','critic_score']]\n",
    "sns.scatterplot(data=ps4, x=\"user_score\", y=\"total_sales\").set_title('PS4')\n",
    "plt.show()\n",
    "xone = games.query('platform == \"XOne\"')[['total_sales','user_score','critic_score']]\n",
    "sns.scatterplot(data=xone, x=\"user_score\", y=\"total_sales\").set_title('XOne')\n",
    "plt.show()"
   ]
  },
  {
   "cell_type": "code",
   "execution_count": 32,
   "metadata": {},
   "outputs": [
    {
     "data": {
      "image/png": "[encoded data removed]",
      "text/plain": [
       "<Figure size 432x288 with 1 Axes>"
      ]
     },
     "metadata": {
      "needs_background": "light"
     },
     "output_type": "display_data"
    },
    {
     "data": {
      "image/png": "[encoded data removed]",
      "text/plain": [
       "<Figure size 432x288 with 1 Axes>"
      ]
     },
     "metadata": {
      "needs_background": "light"
     },
     "output_type": "display_data"
    }
   ],
   "source": [
    "sns.scatterplot(data=ps4, x=\"critic_score\", y=\"total_sales\", color='red').set_title('PS4')\n",
    "plt.show()\n",
    "\n",
    "sns.scatterplot(data=xone, x=\"critic_score\", y=\"total_sales\", color='red').set_title('XOne')\n",
    "plt.show()"
   ]
  },
  {
   "cell_type": "code",
   "execution_count": 33,
   "metadata": {},
   "outputs": [
    {
     "name": "stdout",
     "output_type": "stream",
     "text": [
      "Коффициенты корреляции для PS4\n"
     ]
    },
    {
     "data": {
      "text/html": [
       "<div>\n",
       "<style scoped>\n",
       "    .dataframe tbody tr th:only-of-type {\n",
       "        vertical-align: middle;\n",
       "    }\n",
       "\n",
       "    .dataframe tbody tr th {\n",
       "        vertical-align: top;\n",
       "    }\n",
       "\n",
       "    .dataframe thead th {\n",
       "        text-align: right;\n",
       "    }\n",
       "</style>\n",
       "<table border=\"1\" class=\"dataframe\">\n",
       "  <thead>\n",
       "    <tr style=\"text-align: right;\">\n",
       "      <th></th>\n",
       "      <th>total_sales</th>\n",
       "      <th>user_score</th>\n",
       "      <th>critic_score</th>\n",
       "    </tr>\n",
       "  </thead>\n",
       "  <tbody>\n",
       "    <tr>\n",
       "      <td>total_sales</td>\n",
       "      <td>1.000000</td>\n",
       "      <td>-0.031957</td>\n",
       "      <td>0.406568</td>\n",
       "    </tr>\n",
       "    <tr>\n",
       "      <td>user_score</td>\n",
       "      <td>-0.031957</td>\n",
       "      <td>1.000000</td>\n",
       "      <td>0.557654</td>\n",
       "    </tr>\n",
       "    <tr>\n",
       "      <td>critic_score</td>\n",
       "      <td>0.406568</td>\n",
       "      <td>0.557654</td>\n",
       "      <td>1.000000</td>\n",
       "    </tr>\n",
       "  </tbody>\n",
       "</table>\n",
       "</div>"
      ],
      "text/plain": [
       "              total_sales  user_score  critic_score\n",
       "total_sales      1.000000   -0.031957      0.406568\n",
       "user_score      -0.031957    1.000000      0.557654\n",
       "critic_score     0.406568    0.557654      1.000000"
      ]
     },
     "execution_count": 33,
     "metadata": {},
     "output_type": "execute_result"
    }
   ],
   "source": [
    "print('Коффициенты корреляции для PS4')\n",
    "ps4.corr()"
   ]
  },
  {
   "cell_type": "code",
   "execution_count": 34,
   "metadata": {},
   "outputs": [
    {
     "name": "stdout",
     "output_type": "stream",
     "text": [
      "Коффициенты корреляции для XOne\n"
     ]
    },
    {
     "data": {
      "text/html": [
       "<div>\n",
       "<style scoped>\n",
       "    .dataframe tbody tr th:only-of-type {\n",
       "        vertical-align: middle;\n",
       "    }\n",
       "\n",
       "    .dataframe tbody tr th {\n",
       "        vertical-align: top;\n",
       "    }\n",
       "\n",
       "    .dataframe thead th {\n",
       "        text-align: right;\n",
       "    }\n",
       "</style>\n",
       "<table border=\"1\" class=\"dataframe\">\n",
       "  <thead>\n",
       "    <tr style=\"text-align: right;\">\n",
       "      <th></th>\n",
       "      <th>total_sales</th>\n",
       "      <th>user_score</th>\n",
       "      <th>critic_score</th>\n",
       "    </tr>\n",
       "  </thead>\n",
       "  <tbody>\n",
       "    <tr>\n",
       "      <td>total_sales</td>\n",
       "      <td>1.000000</td>\n",
       "      <td>-0.068925</td>\n",
       "      <td>0.416998</td>\n",
       "    </tr>\n",
       "    <tr>\n",
       "      <td>user_score</td>\n",
       "      <td>-0.068925</td>\n",
       "      <td>1.000000</td>\n",
       "      <td>0.472462</td>\n",
       "    </tr>\n",
       "    <tr>\n",
       "      <td>critic_score</td>\n",
       "      <td>0.416998</td>\n",
       "      <td>0.472462</td>\n",
       "      <td>1.000000</td>\n",
       "    </tr>\n",
       "  </tbody>\n",
       "</table>\n",
       "</div>"
      ],
      "text/plain": [
       "              total_sales  user_score  critic_score\n",
       "total_sales      1.000000   -0.068925      0.416998\n",
       "user_score      -0.068925    1.000000      0.472462\n",
       "critic_score     0.416998    0.472462      1.000000"
      ]
     },
     "execution_count": 34,
     "metadata": {},
     "output_type": "execute_result"
    }
   ],
   "source": [
    "print('Коффициенты корреляции для XOne')\n",
    "xone.corr()"
   ]
  },
  {
   "cell_type": "markdown",
   "metadata": {},
   "source": [
    "Исходя из графиков и таблиц коэффициентов корреляции, можно сказать, что наблюдается небольшая прямая зависимость продаж и рейтингов критиков (с высокой оценкой у игры больше шансов на успех).  \n",
    "В то время как продажи и рейтинг пользователей не зависят на прямую друг от друга почти совсем.  \n",
    "В графиках для разных платформ нет существенных отличий, возможно это говорит о том, что платформа не влияет на оценку игры ни у пользователей ни у критиков."
   ]
  },
  {
   "cell_type": "markdown",
   "metadata": {},
   "source": [
    "___________\n",
    "Посмотрим на общее распределение игр по жанрам."
   ]
  },
  {
   "cell_type": "code",
   "execution_count": 35,
   "metadata": {},
   "outputs": [
    {
     "data": {
      "image/png": "[encoded data removed]",
      "text/plain": [
       "<Figure size 432x288 with 1 Axes>"
      ]
     },
     "metadata": {
      "needs_background": "light"
     },
     "output_type": "display_data"
    },
    {
     "data": {
      "image/png": "[encoded data removed]",
      "text/plain": [
       "<Figure size 432x288 with 1 Axes>"
      ]
     },
     "metadata": {
      "needs_background": "light"
     },
     "output_type": "display_data"
    }
   ],
   "source": [
    "(games.query('year_of_release >= 2013')\n",
    "    .groupby('genre')['name']\n",
    "    .count()\n",
    "    .reset_index()\n",
    "    .sort_values(by='name', ascending=False)\n",
    "    .plot(kind='bar', x='genre', title ='Games by genre', legend=False, color='#733780'))\n",
    "plt.ylabel('Games releases')\n",
    "plt.show()\n",
    "\n",
    "(games.query('year_of_release >= 2013')\n",
    "    .groupby('genre')['total_sales']\n",
    "    .sum()\n",
    "    .reset_index()\n",
    "    .sort_values(by='total_sales', ascending=False)\n",
    "    .plot(kind='bar', x='genre', title ='Total sales by genre', legend=False, color='#1ac4b6'))\n",
    "plt.ylabel('Copies sold, mln')\n",
    "plt.show()\n"
   ]
  },
  {
   "cell_type": "markdown",
   "metadata": {},
   "source": [
    "Больше всего игр выпускается в стиле Action - это безоговорочный лидер, больше всего игр выпускается именно в этом жанре.  \n",
    "По общим продажам ситуация более ровная, и можно выделить несколько лидеров:\n",
    "   - Action\n",
    "   - Shooter\n",
    "   - Sports\n",
    "   - Role-Playing\n",
    "   \n",
    "Игры в стилях Simulation, Strategy, Puzzle не привлекают внимание разработчиков - меньше всего выпущенных игр, меньше всего проданных копий.   "
   ]
  },
  {
   "cell_type": "markdown",
   "metadata": {},
   "source": [
    "</span><a id='users'></a>\n",
    "_________\n",
    "## 4. Составим портрет пользователя каждого региона"
   ]
  },
  {
   "cell_type": "markdown",
   "metadata": {},
   "source": [
    "Составим рейтинги популярности платформ по регионам."
   ]
  },
  {
   "cell_type": "code",
   "execution_count": 36,
   "metadata": {
    "scrolled": false
   },
   "outputs": [
    {
     "data": {
      "text/html": [
       "<style  type=\"text/css\" >\n",
       "    #T_52b211d2_651a_11eb_adba_02420a39543erow0_col0 {\n",
       "            background-color:  #40004b;\n",
       "            color:  #f1f1f1;\n",
       "        }    #T_52b211d2_651a_11eb_adba_02420a39543erow0_col1 {\n",
       "            background-color:  #40004b;\n",
       "            color:  #f1f1f1;\n",
       "        }    #T_52b211d2_651a_11eb_adba_02420a39543erow0_col2 {\n",
       "            background-color:  #c7abd2;\n",
       "            color:  #000000;\n",
       "        }    #T_52b211d2_651a_11eb_adba_02420a39543erow0_col3 {\n",
       "            background-color:  #40004b;\n",
       "            color:  #f1f1f1;\n",
       "        }    #T_52b211d2_651a_11eb_adba_02420a39543erow1_col0 {\n",
       "            background-color:  #752982;\n",
       "            color:  #f1f1f1;\n",
       "        }    #T_52b211d2_651a_11eb_adba_02420a39543erow1_col1 {\n",
       "            background-color:  #9970ab;\n",
       "            color:  #000000;\n",
       "        }    #T_52b211d2_651a_11eb_adba_02420a39543erow1_col2 {\n",
       "            background-color:  #8aca89;\n",
       "            color:  #000000;\n",
       "        }    #T_52b211d2_651a_11eb_adba_02420a39543erow1_col3 {\n",
       "            background-color:  #9970ab;\n",
       "            color:  #000000;\n",
       "        }    #T_52b211d2_651a_11eb_adba_02420a39543erow2_col0 {\n",
       "            background-color:  #9970ab;\n",
       "            color:  #000000;\n",
       "        }    #T_52b211d2_651a_11eb_adba_02420a39543erow2_col1 {\n",
       "            background-color:  #c1a4ce;\n",
       "            color:  #000000;\n",
       "        }    #T_52b211d2_651a_11eb_adba_02420a39543erow2_col2 {\n",
       "            background-color:  #c9e9c3;\n",
       "            color:  #000000;\n",
       "        }    #T_52b211d2_651a_11eb_adba_02420a39543erow2_col3 {\n",
       "            background-color:  #c1a4ce;\n",
       "            color:  #000000;\n",
       "        }    #T_52b211d2_651a_11eb_adba_02420a39543erow3_col0 {\n",
       "            background-color:  #c1a4ce;\n",
       "            color:  #000000;\n",
       "        }    #T_52b211d2_651a_11eb_adba_02420a39543erow3_col1 {\n",
       "            background-color:  #752982;\n",
       "            color:  #f1f1f1;\n",
       "        }    #T_52b211d2_651a_11eb_adba_02420a39543erow3_col2 {\n",
       "            background-color:  #772b84;\n",
       "            color:  #f1f1f1;\n",
       "        }    #T_52b211d2_651a_11eb_adba_02420a39543erow3_col3 {\n",
       "            background-color:  #752982;\n",
       "            color:  #f1f1f1;\n",
       "        }    #T_52b211d2_651a_11eb_adba_02420a39543erow4_col0 {\n",
       "            background-color:  #e7d4e8;\n",
       "            color:  #000000;\n",
       "        }    #T_52b211d2_651a_11eb_adba_02420a39543erow4_col1 {\n",
       "            background-color:  #e7d4e8;\n",
       "            color:  #000000;\n",
       "        }    #T_52b211d2_651a_11eb_adba_02420a39543erow4_col2 {\n",
       "            background-color:  #40004b;\n",
       "            color:  #f1f1f1;\n",
       "        }    #T_52b211d2_651a_11eb_adba_02420a39543erow4_col3 {\n",
       "            background-color:  #e7d4e8;\n",
       "            color:  #000000;\n",
       "        }    #T_52b211d2_651a_11eb_adba_02420a39543erow5_col0 {\n",
       "            background-color:  #f6f7f6;\n",
       "            color:  #000000;\n",
       "        }    #T_52b211d2_651a_11eb_adba_02420a39543erow5_col1 {\n",
       "            background-color:  #d9f0d3;\n",
       "            color:  #000000;\n",
       "        }    #T_52b211d2_651a_11eb_adba_02420a39543erow5_col2 {\n",
       "            background-color:  #eadbeb;\n",
       "            color:  #000000;\n",
       "        }    #T_52b211d2_651a_11eb_adba_02420a39543erow5_col3 {\n",
       "            background-color:  #f6f7f6;\n",
       "            color:  #000000;\n",
       "        }    #T_52b211d2_651a_11eb_adba_02420a39543erow6_col0 {\n",
       "            background-color:  #d9f0d3;\n",
       "            color:  #000000;\n",
       "        }    #T_52b211d2_651a_11eb_adba_02420a39543erow6_col1 {\n",
       "            background-color:  #f6f7f6;\n",
       "            color:  #000000;\n",
       "        }    #T_52b211d2_651a_11eb_adba_02420a39543erow6_col2 {\n",
       "            background-color:  #00441b;\n",
       "            color:  #f1f1f1;\n",
       "        }    #T_52b211d2_651a_11eb_adba_02420a39543erow6_col3 {\n",
       "            background-color:  #a5da9f;\n",
       "            color:  #000000;\n",
       "        }    #T_52b211d2_651a_11eb_adba_02420a39543erow7_col0 {\n",
       "            background-color:  #a5da9f;\n",
       "            color:  #000000;\n",
       "        }    #T_52b211d2_651a_11eb_adba_02420a39543erow7_col1 {\n",
       "            background-color:  #5aae61;\n",
       "            color:  #000000;\n",
       "        }    #T_52b211d2_651a_11eb_adba_02420a39543erow7_col2 {\n",
       "            background-color:  #3f974f;\n",
       "            color:  #000000;\n",
       "        }    #T_52b211d2_651a_11eb_adba_02420a39543erow7_col3 {\n",
       "            background-color:  #5aae61;\n",
       "            color:  #000000;\n",
       "        }    #T_52b211d2_651a_11eb_adba_02420a39543erow8_col0 {\n",
       "            background-color:  #5aae61;\n",
       "            color:  #000000;\n",
       "        }    #T_52b211d2_651a_11eb_adba_02420a39543erow8_col1 {\n",
       "            background-color:  #a5da9f;\n",
       "            color:  #000000;\n",
       "        }    #T_52b211d2_651a_11eb_adba_02420a39543erow8_col2 {\n",
       "            background-color:  #9c74ae;\n",
       "            color:  #000000;\n",
       "        }    #T_52b211d2_651a_11eb_adba_02420a39543erow8_col3 {\n",
       "            background-color:  #d9f0d3;\n",
       "            color:  #000000;\n",
       "        }    #T_52b211d2_651a_11eb_adba_02420a39543erow9_col0 {\n",
       "            background-color:  #1a7736;\n",
       "            color:  #f1f1f1;\n",
       "        }    #T_52b211d2_651a_11eb_adba_02420a39543erow9_col1 {\n",
       "            background-color:  #1a7736;\n",
       "            color:  #f1f1f1;\n",
       "        }    #T_52b211d2_651a_11eb_adba_02420a39543erow9_col2 {\n",
       "            background-color:  #00441b;\n",
       "            color:  #f1f1f1;\n",
       "        }    #T_52b211d2_651a_11eb_adba_02420a39543erow9_col3 {\n",
       "            background-color:  #1a7736;\n",
       "            color:  #f1f1f1;\n",
       "        }    #T_52b211d2_651a_11eb_adba_02420a39543erow10_col0 {\n",
       "            background-color:  #00441b;\n",
       "            color:  #f1f1f1;\n",
       "        }    #T_52b211d2_651a_11eb_adba_02420a39543erow10_col1 {\n",
       "            background-color:  #00441b;\n",
       "            color:  #f1f1f1;\n",
       "        }    #T_52b211d2_651a_11eb_adba_02420a39543erow10_col2 {\n",
       "            background-color:  #eff5ee;\n",
       "            color:  #000000;\n",
       "        }    #T_52b211d2_651a_11eb_adba_02420a39543erow10_col3 {\n",
       "            background-color:  #00441b;\n",
       "            color:  #f1f1f1;\n",
       "        }</style><table id=\"T_52b211d2_651a_11eb_adba_02420a39543e\" ><thead>    <tr>        <th class=\"blank level0\" ></th>        <th class=\"col_heading level0 col0\" >na_sales</th>        <th class=\"col_heading level0 col1\" >eu_sales</th>        <th class=\"col_heading level0 col2\" >jp_sales</th>        <th class=\"col_heading level0 col3\" >other_sales</th>    </tr>    <tr>        <th class=\"index_name level0\" >platform</th>        <th class=\"blank\" ></th>        <th class=\"blank\" ></th>        <th class=\"blank\" ></th>        <th class=\"blank\" ></th>    </tr></thead><tbody>\n",
       "                <tr>\n",
       "                        <th id=\"T_52b211d2_651a_11eb_adba_02420a39543elevel0_row0\" class=\"row_heading level0 row0\" >PS4</th>\n",
       "                        <td id=\"T_52b211d2_651a_11eb_adba_02420a39543erow0_col0\" class=\"data row0 col0\" >1</td>\n",
       "                        <td id=\"T_52b211d2_651a_11eb_adba_02420a39543erow0_col1\" class=\"data row0 col1\" >1</td>\n",
       "                        <td id=\"T_52b211d2_651a_11eb_adba_02420a39543erow0_col2\" class=\"data row0 col2\" >4</td>\n",
       "                        <td id=\"T_52b211d2_651a_11eb_adba_02420a39543erow0_col3\" class=\"data row0 col3\" >1</td>\n",
       "            </tr>\n",
       "            <tr>\n",
       "                        <th id=\"T_52b211d2_651a_11eb_adba_02420a39543elevel0_row1\" class=\"row_heading level0 row1\" >XOne</th>\n",
       "                        <td id=\"T_52b211d2_651a_11eb_adba_02420a39543erow1_col0\" class=\"data row1 col0\" >2</td>\n",
       "                        <td id=\"T_52b211d2_651a_11eb_adba_02420a39543erow1_col1\" class=\"data row1 col1\" >3</td>\n",
       "                        <td id=\"T_52b211d2_651a_11eb_adba_02420a39543erow1_col2\" class=\"data row1 col2\" >8</td>\n",
       "                        <td id=\"T_52b211d2_651a_11eb_adba_02420a39543erow1_col3\" class=\"data row1 col3\" >3</td>\n",
       "            </tr>\n",
       "            <tr>\n",
       "                        <th id=\"T_52b211d2_651a_11eb_adba_02420a39543elevel0_row2\" class=\"row_heading level0 row2\" >X360</th>\n",
       "                        <td id=\"T_52b211d2_651a_11eb_adba_02420a39543erow2_col0\" class=\"data row2 col0\" >3</td>\n",
       "                        <td id=\"T_52b211d2_651a_11eb_adba_02420a39543erow2_col1\" class=\"data row2 col1\" >4</td>\n",
       "                        <td id=\"T_52b211d2_651a_11eb_adba_02420a39543erow2_col2\" class=\"data row2 col2\" >7</td>\n",
       "                        <td id=\"T_52b211d2_651a_11eb_adba_02420a39543erow2_col3\" class=\"data row2 col3\" >4</td>\n",
       "            </tr>\n",
       "            <tr>\n",
       "                        <th id=\"T_52b211d2_651a_11eb_adba_02420a39543elevel0_row3\" class=\"row_heading level0 row3\" >PS3</th>\n",
       "                        <td id=\"T_52b211d2_651a_11eb_adba_02420a39543erow3_col0\" class=\"data row3 col0\" >4</td>\n",
       "                        <td id=\"T_52b211d2_651a_11eb_adba_02420a39543erow3_col1\" class=\"data row3 col1\" >2</td>\n",
       "                        <td id=\"T_52b211d2_651a_11eb_adba_02420a39543erow3_col2\" class=\"data row3 col2\" >2</td>\n",
       "                        <td id=\"T_52b211d2_651a_11eb_adba_02420a39543erow3_col3\" class=\"data row3 col3\" >2</td>\n",
       "            </tr>\n",
       "            <tr>\n",
       "                        <th id=\"T_52b211d2_651a_11eb_adba_02420a39543elevel0_row4\" class=\"row_heading level0 row4\" >3DS</th>\n",
       "                        <td id=\"T_52b211d2_651a_11eb_adba_02420a39543erow4_col0\" class=\"data row4 col0\" >5</td>\n",
       "                        <td id=\"T_52b211d2_651a_11eb_adba_02420a39543erow4_col1\" class=\"data row4 col1\" >5</td>\n",
       "                        <td id=\"T_52b211d2_651a_11eb_adba_02420a39543erow4_col2\" class=\"data row4 col2\" >1</td>\n",
       "                        <td id=\"T_52b211d2_651a_11eb_adba_02420a39543erow4_col3\" class=\"data row4 col3\" >5</td>\n",
       "            </tr>\n",
       "            <tr>\n",
       "                        <th id=\"T_52b211d2_651a_11eb_adba_02420a39543elevel0_row5\" class=\"row_heading level0 row5\" >WiiU</th>\n",
       "                        <td id=\"T_52b211d2_651a_11eb_adba_02420a39543erow5_col0\" class=\"data row5 col0\" >6</td>\n",
       "                        <td id=\"T_52b211d2_651a_11eb_adba_02420a39543erow5_col1\" class=\"data row5 col1\" >7</td>\n",
       "                        <td id=\"T_52b211d2_651a_11eb_adba_02420a39543erow5_col2\" class=\"data row5 col2\" >5</td>\n",
       "                        <td id=\"T_52b211d2_651a_11eb_adba_02420a39543erow5_col3\" class=\"data row5 col3\" >6</td>\n",
       "            </tr>\n",
       "            <tr>\n",
       "                        <th id=\"T_52b211d2_651a_11eb_adba_02420a39543elevel0_row6\" class=\"row_heading level0 row6\" >PC</th>\n",
       "                        <td id=\"T_52b211d2_651a_11eb_adba_02420a39543erow6_col0\" class=\"data row6 col0\" >7</td>\n",
       "                        <td id=\"T_52b211d2_651a_11eb_adba_02420a39543erow6_col1\" class=\"data row6 col1\" >6</td>\n",
       "                        <td id=\"T_52b211d2_651a_11eb_adba_02420a39543erow6_col2\" class=\"data row6 col2\" >10.5</td>\n",
       "                        <td id=\"T_52b211d2_651a_11eb_adba_02420a39543erow6_col3\" class=\"data row6 col3\" >8</td>\n",
       "            </tr>\n",
       "            <tr>\n",
       "                        <th id=\"T_52b211d2_651a_11eb_adba_02420a39543elevel0_row7\" class=\"row_heading level0 row7\" >Wii</th>\n",
       "                        <td id=\"T_52b211d2_651a_11eb_adba_02420a39543erow7_col0\" class=\"data row7 col0\" >8</td>\n",
       "                        <td id=\"T_52b211d2_651a_11eb_adba_02420a39543erow7_col1\" class=\"data row7 col1\" >9</td>\n",
       "                        <td id=\"T_52b211d2_651a_11eb_adba_02420a39543erow7_col2\" class=\"data row7 col2\" >9</td>\n",
       "                        <td id=\"T_52b211d2_651a_11eb_adba_02420a39543erow7_col3\" class=\"data row7 col3\" >9</td>\n",
       "            </tr>\n",
       "            <tr>\n",
       "                        <th id=\"T_52b211d2_651a_11eb_adba_02420a39543elevel0_row8\" class=\"row_heading level0 row8\" >PSV</th>\n",
       "                        <td id=\"T_52b211d2_651a_11eb_adba_02420a39543erow8_col0\" class=\"data row8 col0\" >9</td>\n",
       "                        <td id=\"T_52b211d2_651a_11eb_adba_02420a39543erow8_col1\" class=\"data row8 col1\" >8</td>\n",
       "                        <td id=\"T_52b211d2_651a_11eb_adba_02420a39543erow8_col2\" class=\"data row8 col2\" >3</td>\n",
       "                        <td id=\"T_52b211d2_651a_11eb_adba_02420a39543erow8_col3\" class=\"data row8 col3\" >7</td>\n",
       "            </tr>\n",
       "            <tr>\n",
       "                        <th id=\"T_52b211d2_651a_11eb_adba_02420a39543elevel0_row9\" class=\"row_heading level0 row9\" >DS</th>\n",
       "                        <td id=\"T_52b211d2_651a_11eb_adba_02420a39543erow9_col0\" class=\"data row9 col0\" >10</td>\n",
       "                        <td id=\"T_52b211d2_651a_11eb_adba_02420a39543erow9_col1\" class=\"data row9 col1\" >10</td>\n",
       "                        <td id=\"T_52b211d2_651a_11eb_adba_02420a39543erow9_col2\" class=\"data row9 col2\" >10.5</td>\n",
       "                        <td id=\"T_52b211d2_651a_11eb_adba_02420a39543erow9_col3\" class=\"data row9 col3\" >10</td>\n",
       "            </tr>\n",
       "            <tr>\n",
       "                        <th id=\"T_52b211d2_651a_11eb_adba_02420a39543elevel0_row10\" class=\"row_heading level0 row10\" >PSP</th>\n",
       "                        <td id=\"T_52b211d2_651a_11eb_adba_02420a39543erow10_col0\" class=\"data row10 col0\" >11</td>\n",
       "                        <td id=\"T_52b211d2_651a_11eb_adba_02420a39543erow10_col1\" class=\"data row10 col1\" >11</td>\n",
       "                        <td id=\"T_52b211d2_651a_11eb_adba_02420a39543erow10_col2\" class=\"data row10 col2\" >6</td>\n",
       "                        <td id=\"T_52b211d2_651a_11eb_adba_02420a39543erow10_col3\" class=\"data row10 col3\" >11</td>\n",
       "            </tr>\n",
       "    </tbody></table>"
      ],
      "text/plain": [
       "<pandas.io.formats.style.Styler at 0x7fc082b29450>"
      ]
     },
     "execution_count": 36,
     "metadata": {},
     "output_type": "execute_result"
    }
   ],
   "source": [
    "platform_gegion = (games.query('year_of_release >= 2013')\n",
    "    .groupby('platform')[['na_sales','eu_sales','jp_sales','other_sales']]\n",
    "    .sum()\n",
    "    .sort_values(by='na_sales', ascending=False))\n",
    "platform_gegion.rank(ascending=False).style.background_gradient('PRGn')"
   ]
  },
  {
   "cell_type": "markdown",
   "metadata": {},
   "source": [
    "Европейский и американский рынок приставок очень похожи  - PS4 и XOne в лидерах. На японском рынке 1 и 3 место занимают портативные приставки (!) 3DS и PSV соответственно (интересное отличие)."
   ]
  },
  {
   "cell_type": "code",
   "execution_count": 37,
   "metadata": {},
   "outputs": [],
   "source": [
    "def percentColumn (data, column):\n",
    "    percent = (data[column] / data[column].sum() * 100).round(2)\n",
    "    return percent"
   ]
  },
  {
   "cell_type": "code",
   "execution_count": 38,
   "metadata": {
    "scrolled": false
   },
   "outputs": [
    {
     "data": {
      "text/html": [
       "<style  type=\"text/css\" >\n",
       "    #T_52bf2b7e_651a_11eb_adba_02420a39543erow0_col0 {\n",
       "            background-color:  #0b0000;\n",
       "            color:  #f1f1f1;\n",
       "        }    #T_52bf2b7e_651a_11eb_adba_02420a39543erow0_col1 {\n",
       "            background-color:  #0b0000;\n",
       "            color:  #f1f1f1;\n",
       "        }    #T_52bf2b7e_651a_11eb_adba_02420a39543erow0_col2 {\n",
       "            background-color:  #ffff13;\n",
       "            color:  #000000;\n",
       "        }    #T_52bf2b7e_651a_11eb_adba_02420a39543erow0_col3 {\n",
       "            background-color:  #0b0000;\n",
       "            color:  #f1f1f1;\n",
       "        }    #T_52bf2b7e_651a_11eb_adba_02420a39543erow1_col0 {\n",
       "            background-color:  #690000;\n",
       "            color:  #f1f1f1;\n",
       "        }    #T_52bf2b7e_651a_11eb_adba_02420a39543erow1_col1 {\n",
       "            background-color:  #ffb500;\n",
       "            color:  #000000;\n",
       "        }    #T_52bf2b7e_651a_11eb_adba_02420a39543erow1_col2 {\n",
       "            background-color:  #fffffb;\n",
       "            color:  #000000;\n",
       "        }    #T_52bf2b7e_651a_11eb_adba_02420a39543erow1_col3 {\n",
       "            background-color:  #ffe400;\n",
       "            color:  #000000;\n",
       "        }    #T_52bf2b7e_651a_11eb_adba_02420a39543erow2_col0 {\n",
       "            background-color:  #b00000;\n",
       "            color:  #f1f1f1;\n",
       "        }    #T_52bf2b7e_651a_11eb_adba_02420a39543erow2_col1 {\n",
       "            background-color:  #ffe100;\n",
       "            color:  #000000;\n",
       "        }    #T_52bf2b7e_651a_11eb_adba_02420a39543erow2_col2 {\n",
       "            background-color:  #fffffb;\n",
       "            color:  #000000;\n",
       "        }    #T_52bf2b7e_651a_11eb_adba_02420a39543erow2_col3 {\n",
       "            background-color:  #ffff07;\n",
       "            color:  #000000;\n",
       "        }    #T_52bf2b7e_651a_11eb_adba_02420a39543erow3_col0 {\n",
       "            background-color:  #ff2200;\n",
       "            color:  #f1f1f1;\n",
       "        }    #T_52bf2b7e_651a_11eb_adba_02420a39543erow3_col1 {\n",
       "            background-color:  #ff6900;\n",
       "            color:  #000000;\n",
       "        }    #T_52bf2b7e_651a_11eb_adba_02420a39543erow3_col2 {\n",
       "            background-color:  #ffc200;\n",
       "            color:  #000000;\n",
       "        }    #T_52bf2b7e_651a_11eb_adba_02420a39543erow3_col3 {\n",
       "            background-color:  #ff3700;\n",
       "            color:  #f1f1f1;\n",
       "        }    #T_52bf2b7e_651a_11eb_adba_02420a39543erow4_col0 {\n",
       "            background-color:  #ffbf00;\n",
       "            color:  #000000;\n",
       "        }    #T_52bf2b7e_651a_11eb_adba_02420a39543erow4_col1 {\n",
       "            background-color:  #ffff26;\n",
       "            color:  #000000;\n",
       "        }    #T_52bf2b7e_651a_11eb_adba_02420a39543erow4_col2 {\n",
       "            background-color:  #0b0000;\n",
       "            color:  #f1f1f1;\n",
       "        }    #T_52bf2b7e_651a_11eb_adba_02420a39543erow4_col3 {\n",
       "            background-color:  #ffff7d;\n",
       "            color:  #000000;\n",
       "        }    #T_52bf2b7e_651a_11eb_adba_02420a39543erow5_col0 {\n",
       "            background-color:  #fff600;\n",
       "            color:  #000000;\n",
       "        }    #T_52bf2b7e_651a_11eb_adba_02420a39543erow5_col1 {\n",
       "            background-color:  #ffff75;\n",
       "            color:  #000000;\n",
       "        }    #T_52bf2b7e_651a_11eb_adba_02420a39543erow5_col2 {\n",
       "            background-color:  #ffff5e;\n",
       "            color:  #000000;\n",
       "        }    #T_52bf2b7e_651a_11eb_adba_02420a39543erow5_col3 {\n",
       "            background-color:  #ffffa0;\n",
       "            color:  #000000;\n",
       "        }    #T_52bf2b7e_651a_11eb_adba_02420a39543erow6_col0 {\n",
       "            background-color:  #ffff99;\n",
       "            color:  #000000;\n",
       "        }    #T_52bf2b7e_651a_11eb_adba_02420a39543erow6_col1 {\n",
       "            background-color:  #ffff4e;\n",
       "            color:  #000000;\n",
       "        }    #T_52bf2b7e_651a_11eb_adba_02420a39543erow6_col2 {\n",
       "            background-color:  #ffffff;\n",
       "            color:  #000000;\n",
       "        }    #T_52bf2b7e_651a_11eb_adba_02420a39543erow6_col3 {\n",
       "            background-color:  #ffffc4;\n",
       "            color:  #000000;\n",
       "        }    #T_52bf2b7e_651a_11eb_adba_02420a39543erow7_col0 {\n",
       "            background-color:  #ffffc4;\n",
       "            color:  #000000;\n",
       "        }    #T_52bf2b7e_651a_11eb_adba_02420a39543erow7_col1 {\n",
       "            background-color:  #ffffd8;\n",
       "            color:  #000000;\n",
       "        }    #T_52bf2b7e_651a_11eb_adba_02420a39543erow7_col2 {\n",
       "            background-color:  #ffffff;\n",
       "            color:  #000000;\n",
       "        }    #T_52bf2b7e_651a_11eb_adba_02420a39543erow7_col3 {\n",
       "            background-color:  #ffffeb;\n",
       "            color:  #000000;\n",
       "        }    #T_52bf2b7e_651a_11eb_adba_02420a39543erow8_col0 {\n",
       "            background-color:  #ffffd4;\n",
       "            color:  #000000;\n",
       "        }    #T_52bf2b7e_651a_11eb_adba_02420a39543erow8_col1 {\n",
       "            background-color:  #ffffd8;\n",
       "            color:  #000000;\n",
       "        }    #T_52bf2b7e_651a_11eb_adba_02420a39543erow8_col2 {\n",
       "            background-color:  #fff100;\n",
       "            color:  #000000;\n",
       "        }    #T_52bf2b7e_651a_11eb_adba_02420a39543erow8_col3 {\n",
       "            background-color:  #ffffbc;\n",
       "            color:  #000000;\n",
       "        }    #T_52bf2b7e_651a_11eb_adba_02420a39543erow9_col0 {\n",
       "            background-color:  #fffffb;\n",
       "            color:  #000000;\n",
       "        }    #T_52bf2b7e_651a_11eb_adba_02420a39543erow9_col1 {\n",
       "            background-color:  #fffffb;\n",
       "            color:  #000000;\n",
       "        }    #T_52bf2b7e_651a_11eb_adba_02420a39543erow9_col2 {\n",
       "            background-color:  #ffffff;\n",
       "            color:  #000000;\n",
       "        }    #T_52bf2b7e_651a_11eb_adba_02420a39543erow9_col3 {\n",
       "            background-color:  #ffffff;\n",
       "            color:  #000000;\n",
       "        }    #T_52bf2b7e_651a_11eb_adba_02420a39543erow10_col0 {\n",
       "            background-color:  #ffffff;\n",
       "            color:  #000000;\n",
       "        }    #T_52bf2b7e_651a_11eb_adba_02420a39543erow10_col1 {\n",
       "            background-color:  #ffffff;\n",
       "            color:  #000000;\n",
       "        }    #T_52bf2b7e_651a_11eb_adba_02420a39543erow10_col2 {\n",
       "            background-color:  #ffffd0;\n",
       "            color:  #000000;\n",
       "        }    #T_52bf2b7e_651a_11eb_adba_02420a39543erow10_col3 {\n",
       "            background-color:  #ffffff;\n",
       "            color:  #000000;\n",
       "        }</style><table id=\"T_52bf2b7e_651a_11eb_adba_02420a39543e\" ><thead>    <tr>        <th class=\"blank level0\" ></th>        <th class=\"col_heading level0 col0\" >na_%</th>        <th class=\"col_heading level0 col1\" >eu_%</th>        <th class=\"col_heading level0 col2\" >jp_%</th>        <th class=\"col_heading level0 col3\" >other_%</th>    </tr>    <tr>        <th class=\"index_name level0\" >platform</th>        <th class=\"blank\" ></th>        <th class=\"blank\" ></th>        <th class=\"blank\" ></th>        <th class=\"blank\" ></th>    </tr></thead><tbody>\n",
       "                <tr>\n",
       "                        <th id=\"T_52bf2b7e_651a_11eb_adba_02420a39543elevel0_row0\" class=\"row_heading level0 row0\" >PS4</th>\n",
       "                        <td id=\"T_52bf2b7e_651a_11eb_adba_02420a39543erow0_col0\" class=\"data row0 col0\" >24.84</td>\n",
       "                        <td id=\"T_52bf2b7e_651a_11eb_adba_02420a39543erow0_col1\" class=\"data row0 col1\" >35.97</td>\n",
       "                        <td id=\"T_52bf2b7e_651a_11eb_adba_02420a39543erow0_col2\" class=\"data row0 col2\" >11.34</td>\n",
       "                        <td id=\"T_52bf2b7e_651a_11eb_adba_02420a39543erow0_col3\" class=\"data row0 col3\" >40.3</td>\n",
       "            </tr>\n",
       "            <tr>\n",
       "                        <th id=\"T_52bf2b7e_651a_11eb_adba_02420a39543elevel0_row1\" class=\"row_heading level0 row1\" >XOne</th>\n",
       "                        <td id=\"T_52bf2b7e_651a_11eb_adba_02420a39543erow1_col0\" class=\"data row1 col0\" >21.27</td>\n",
       "                        <td id=\"T_52bf2b7e_651a_11eb_adba_02420a39543erow1_col1\" class=\"data row1 col1\" >13.15</td>\n",
       "                        <td id=\"T_52bf2b7e_651a_11eb_adba_02420a39543erow1_col2\" class=\"data row1 col2\" >0.24</td>\n",
       "                        <td id=\"T_52bf2b7e_651a_11eb_adba_02420a39543erow1_col3\" class=\"data row1 col3\" >11.89</td>\n",
       "            </tr>\n",
       "            <tr>\n",
       "                        <th id=\"T_52bf2b7e_651a_11eb_adba_02420a39543elevel0_row2\" class=\"row_heading level0 row2\" >X360</th>\n",
       "                        <td id=\"T_52bf2b7e_651a_11eb_adba_02420a39543erow2_col0\" class=\"data row2 col0\" >18.66</td>\n",
       "                        <td id=\"T_52bf2b7e_651a_11eb_adba_02420a39543erow2_col1\" class=\"data row2 col1\" >10.84</td>\n",
       "                        <td id=\"T_52bf2b7e_651a_11eb_adba_02420a39543erow2_col2\" class=\"data row2 col2\" >0.36</td>\n",
       "                        <td id=\"T_52bf2b7e_651a_11eb_adba_02420a39543erow2_col3\" class=\"data row2 col3\" >10.09</td>\n",
       "            </tr>\n",
       "            <tr>\n",
       "                        <th id=\"T_52bf2b7e_651a_11eb_adba_02420a39543elevel0_row3\" class=\"row_heading level0 row3\" >PS3</th>\n",
       "                        <td id=\"T_52bf2b7e_651a_11eb_adba_02420a39543erow3_col0\" class=\"data row3 col0\" >14.51</td>\n",
       "                        <td id=\"T_52bf2b7e_651a_11eb_adba_02420a39543erow3_col1\" class=\"data row3 col1\" >17.29</td>\n",
       "                        <td id=\"T_52bf2b7e_651a_11eb_adba_02420a39543erow3_col2\" class=\"data row3 col2\" >16.59</td>\n",
       "                        <td id=\"T_52bf2b7e_651a_11eb_adba_02420a39543erow3_col3\" class=\"data row3 col3\" >22.31</td>\n",
       "            </tr>\n",
       "            <tr>\n",
       "                        <th id=\"T_52bf2b7e_651a_11eb_adba_02420a39543elevel0_row4\" class=\"row_heading level0 row4\" >3DS</th>\n",
       "                        <td id=\"T_52bf2b7e_651a_11eb_adba_02420a39543erow4_col0\" class=\"data row4 col0\" >8.73</td>\n",
       "                        <td id=\"T_52bf2b7e_651a_11eb_adba_02420a39543erow4_col1\" class=\"data row4 col1\" >7.89</td>\n",
       "                        <td id=\"T_52bf2b7e_651a_11eb_adba_02420a39543erow4_col2\" class=\"data row4 col2\" >48.17</td>\n",
       "                        <td id=\"T_52bf2b7e_651a_11eb_adba_02420a39543erow4_col3\" class=\"data row4 col3\" >5.23</td>\n",
       "            </tr>\n",
       "            <tr>\n",
       "                        <th id=\"T_52bf2b7e_651a_11eb_adba_02420a39543elevel0_row5\" class=\"row_heading level0 row5\" >WiiU</th>\n",
       "                        <td id=\"T_52bf2b7e_651a_11eb_adba_02420a39543erow5_col0\" class=\"data row5 col0\" >6.67</td>\n",
       "                        <td id=\"T_52bf2b7e_651a_11eb_adba_02420a39543erow5_col1\" class=\"data row5 col1\" >5.06</td>\n",
       "                        <td id=\"T_52bf2b7e_651a_11eb_adba_02420a39543erow5_col2\" class=\"data row5 col2\" >7.73</td>\n",
       "                        <td id=\"T_52bf2b7e_651a_11eb_adba_02420a39543erow5_col3\" class=\"data row5 col3\" >3.91</td>\n",
       "            </tr>\n",
       "            <tr>\n",
       "                        <th id=\"T_52bf2b7e_651a_11eb_adba_02420a39543elevel0_row6\" class=\"row_heading level0 row6\" >PC</th>\n",
       "                        <td id=\"T_52bf2b7e_651a_11eb_adba_02420a39543erow6_col0\" class=\"data row6 col0\" >2.54</td>\n",
       "                        <td id=\"T_52bf2b7e_651a_11eb_adba_02420a39543erow6_col1\" class=\"data row6 col1\" >6.47</td>\n",
       "                        <td id=\"T_52bf2b7e_651a_11eb_adba_02420a39543erow6_col2\" class=\"data row6 col2\" >0</td>\n",
       "                        <td id=\"T_52bf2b7e_651a_11eb_adba_02420a39543erow6_col3\" class=\"data row6 col3\" >2.47</td>\n",
       "            </tr>\n",
       "            <tr>\n",
       "                        <th id=\"T_52bf2b7e_651a_11eb_adba_02420a39543elevel0_row7\" class=\"row_heading level0 row7\" >Wii</th>\n",
       "                        <td id=\"T_52bf2b7e_651a_11eb_adba_02420a39543erow7_col0\" class=\"data row7 col0\" >1.5</td>\n",
       "                        <td id=\"T_52bf2b7e_651a_11eb_adba_02420a39543erow7_col1\" class=\"data row7 col1\" >1.51</td>\n",
       "                        <td id=\"T_52bf2b7e_651a_11eb_adba_02420a39543erow7_col2\" class=\"data row7 col2\" >0.04</td>\n",
       "                        <td id=\"T_52bf2b7e_651a_11eb_adba_02420a39543erow7_col3\" class=\"data row7 col3\" >0.93</td>\n",
       "            </tr>\n",
       "            <tr>\n",
       "                        <th id=\"T_52bf2b7e_651a_11eb_adba_02420a39543elevel0_row8\" class=\"row_heading level0 row8\" >PSV</th>\n",
       "                        <td id=\"T_52bf2b7e_651a_11eb_adba_02420a39543erow8_col0\" class=\"data row8 col0\" >1.15</td>\n",
       "                        <td id=\"T_52bf2b7e_651a_11eb_adba_02420a39543erow8_col1\" class=\"data row8 col1\" >1.56</td>\n",
       "                        <td id=\"T_52bf2b7e_651a_11eb_adba_02420a39543erow8_col2\" class=\"data row8 col2\" >13.21</td>\n",
       "                        <td id=\"T_52bf2b7e_651a_11eb_adba_02420a39543erow8_col3\" class=\"data row8 col3\" >2.72</td>\n",
       "            </tr>\n",
       "            <tr>\n",
       "                        <th id=\"T_52bf2b7e_651a_11eb_adba_02420a39543elevel0_row9\" class=\"row_heading level0 row9\" >DS</th>\n",
       "                        <td id=\"T_52bf2b7e_651a_11eb_adba_02420a39543erow9_col0\" class=\"data row9 col0\" >0.13</td>\n",
       "                        <td id=\"T_52bf2b7e_651a_11eb_adba_02420a39543erow9_col1\" class=\"data row9 col1\" >0.22</td>\n",
       "                        <td id=\"T_52bf2b7e_651a_11eb_adba_02420a39543erow9_col2\" class=\"data row9 col2\" >0</td>\n",
       "                        <td id=\"T_52bf2b7e_651a_11eb_adba_02420a39543erow9_col3\" class=\"data row9 col3\" >0.1</td>\n",
       "            </tr>\n",
       "            <tr>\n",
       "                        <th id=\"T_52bf2b7e_651a_11eb_adba_02420a39543elevel0_row10\" class=\"row_heading level0 row10\" >PSP</th>\n",
       "                        <td id=\"T_52bf2b7e_651a_11eb_adba_02420a39543erow10_col0\" class=\"data row10 col0\" >0</td>\n",
       "                        <td id=\"T_52bf2b7e_651a_11eb_adba_02420a39543erow10_col1\" class=\"data row10 col1\" >0.04</td>\n",
       "                        <td id=\"T_52bf2b7e_651a_11eb_adba_02420a39543erow10_col2\" class=\"data row10 col2\" >2.34</td>\n",
       "                        <td id=\"T_52bf2b7e_651a_11eb_adba_02420a39543erow10_col3\" class=\"data row10 col3\" >0.03</td>\n",
       "            </tr>\n",
       "    </tbody></table>"
      ],
      "text/plain": [
       "<pandas.io.formats.style.Styler at 0x7fc082bca850>"
      ]
     },
     "execution_count": 38,
     "metadata": {},
     "output_type": "execute_result"
    }
   ],
   "source": [
    "platform_gegion['na_%'] = percentColumn (platform_gegion,'na_sales')\n",
    "platform_gegion['eu_%'] = percentColumn (platform_gegion,'eu_sales')\n",
    "platform_gegion['jp_%'] = percentColumn (platform_gegion,'jp_sales')\n",
    "platform_gegion['other_%'] = percentColumn (platform_gegion,'other_sales')\n",
    "platform_gegion[['na_%','eu_%','jp_%','other_%']].style.background_gradient('hot_r')"
   ]
  },
  {
   "cell_type": "markdown",
   "metadata": {},
   "source": [
    "На американском рынке новые приставки PS4 и XBox одинаково популярны, на двоих 46%  \n",
    "На европецском рынке PS4(36%) заметно популярнее XOne (13%) - их общая доля - 49%  \n",
    "На японском рынке доля только портативной 3DS составляет 48% ! PS4 и XOne вместе занимают только лишь 11.6% рынка!"
   ]
  },
  {
   "cell_type": "markdown",
   "metadata": {},
   "source": [
    "___________\n",
    "Теперь посмотрим какие игровые жанры популярны среди жителей Америки, Европы и Японии.  \n",
    "Составим рейтинг."
   ]
  },
  {
   "cell_type": "code",
   "execution_count": 39,
   "metadata": {},
   "outputs": [
    {
     "data": {
      "text/html": [
       "<style  type=\"text/css\" >\n",
       "    #T_52c6b538_651a_11eb_adba_02420a39543erow0_col0 {\n",
       "            background-color:  #67001f;\n",
       "            color:  #f1f1f1;\n",
       "        }    #T_52c6b538_651a_11eb_adba_02420a39543erow0_col1 {\n",
       "            background-color:  #67001f;\n",
       "            color:  #f1f1f1;\n",
       "        }    #T_52c6b538_651a_11eb_adba_02420a39543erow0_col2 {\n",
       "            background-color:  #ab162a;\n",
       "            color:  #f1f1f1;\n",
       "        }    #T_52c6b538_651a_11eb_adba_02420a39543erow0_col3 {\n",
       "            background-color:  #67001f;\n",
       "            color:  #f1f1f1;\n",
       "        }    #T_52c6b538_651a_11eb_adba_02420a39543erow1_col0 {\n",
       "            background-color:  #ab162a;\n",
       "            color:  #f1f1f1;\n",
       "        }    #T_52c6b538_651a_11eb_adba_02420a39543erow1_col1 {\n",
       "            background-color:  #ab162a;\n",
       "            color:  #f1f1f1;\n",
       "        }    #T_52c6b538_651a_11eb_adba_02420a39543erow1_col2 {\n",
       "            background-color:  #fac8af;\n",
       "            color:  #000000;\n",
       "        }    #T_52c6b538_651a_11eb_adba_02420a39543erow1_col3 {\n",
       "            background-color:  #ab162a;\n",
       "            color:  #f1f1f1;\n",
       "        }    #T_52c6b538_651a_11eb_adba_02420a39543erow2_col0 {\n",
       "            background-color:  #cf5246;\n",
       "            color:  #000000;\n",
       "        }    #T_52c6b538_651a_11eb_adba_02420a39543erow2_col1 {\n",
       "            background-color:  #cf5246;\n",
       "            color:  #000000;\n",
       "        }    #T_52c6b538_651a_11eb_adba_02420a39543erow2_col2 {\n",
       "            background-color:  #e6eff4;\n",
       "            color:  #000000;\n",
       "        }    #T_52c6b538_651a_11eb_adba_02420a39543erow2_col3 {\n",
       "            background-color:  #cf5246;\n",
       "            color:  #000000;\n",
       "        }    #T_52c6b538_651a_11eb_adba_02420a39543erow3_col0 {\n",
       "            background-color:  #eb9172;\n",
       "            color:  #000000;\n",
       "        }    #T_52c6b538_651a_11eb_adba_02420a39543erow3_col1 {\n",
       "            background-color:  #eb9172;\n",
       "            color:  #000000;\n",
       "        }    #T_52c6b538_651a_11eb_adba_02420a39543erow3_col2 {\n",
       "            background-color:  #67001f;\n",
       "            color:  #f1f1f1;\n",
       "        }    #T_52c6b538_651a_11eb_adba_02420a39543erow3_col3 {\n",
       "            background-color:  #eb9172;\n",
       "            color:  #000000;\n",
       "        }    #T_52c6b538_651a_11eb_adba_02420a39543erow4_col0 {\n",
       "            background-color:  #fac8af;\n",
       "            color:  #000000;\n",
       "        }    #T_52c6b538_651a_11eb_adba_02420a39543erow4_col1 {\n",
       "            background-color:  #faeae1;\n",
       "            color:  #000000;\n",
       "        }    #T_52c6b538_651a_11eb_adba_02420a39543erow4_col2 {\n",
       "            background-color:  #cf5246;\n",
       "            color:  #000000;\n",
       "        }    #T_52c6b538_651a_11eb_adba_02420a39543erow4_col3 {\n",
       "            background-color:  #fac8af;\n",
       "            color:  #000000;\n",
       "        }    #T_52c6b538_651a_11eb_adba_02420a39543erow5_col0 {\n",
       "            background-color:  #faeae1;\n",
       "            color:  #000000;\n",
       "        }    #T_52c6b538_651a_11eb_adba_02420a39543erow5_col1 {\n",
       "            background-color:  #e6eff4;\n",
       "            color:  #000000;\n",
       "        }    #T_52c6b538_651a_11eb_adba_02420a39543erow5_col2 {\n",
       "            background-color:  #bbdaea;\n",
       "            color:  #000000;\n",
       "        }    #T_52c6b538_651a_11eb_adba_02420a39543erow5_col3 {\n",
       "            background-color:  #e6eff4;\n",
       "            color:  #000000;\n",
       "        }    #T_52c6b538_651a_11eb_adba_02420a39543erow6_col0 {\n",
       "            background-color:  #e6eff4;\n",
       "            color:  #000000;\n",
       "        }    #T_52c6b538_651a_11eb_adba_02420a39543erow6_col1 {\n",
       "            background-color:  #7bb6d6;\n",
       "            color:  #000000;\n",
       "        }    #T_52c6b538_651a_11eb_adba_02420a39543erow6_col2 {\n",
       "            background-color:  #eb9172;\n",
       "            color:  #000000;\n",
       "        }    #T_52c6b538_651a_11eb_adba_02420a39543erow6_col3 {\n",
       "            background-color:  #bbdaea;\n",
       "            color:  #000000;\n",
       "        }    #T_52c6b538_651a_11eb_adba_02420a39543erow7_col0 {\n",
       "            background-color:  #bbdaea;\n",
       "            color:  #000000;\n",
       "        }    #T_52c6b538_651a_11eb_adba_02420a39543erow7_col1 {\n",
       "            background-color:  #fac8af;\n",
       "            color:  #000000;\n",
       "        }    #T_52c6b538_651a_11eb_adba_02420a39543erow7_col2 {\n",
       "            background-color:  #3c8abe;\n",
       "            color:  #000000;\n",
       "        }    #T_52c6b538_651a_11eb_adba_02420a39543erow7_col3 {\n",
       "            background-color:  #faeae1;\n",
       "            color:  #000000;\n",
       "        }    #T_52c6b538_651a_11eb_adba_02420a39543erow8_col0 {\n",
       "            background-color:  #7bb6d6;\n",
       "            color:  #000000;\n",
       "        }    #T_52c6b538_651a_11eb_adba_02420a39543erow8_col1 {\n",
       "            background-color:  #3c8abe;\n",
       "            color:  #000000;\n",
       "        }    #T_52c6b538_651a_11eb_adba_02420a39543erow8_col2 {\n",
       "            background-color:  #faeae1;\n",
       "            color:  #000000;\n",
       "        }    #T_52c6b538_651a_11eb_adba_02420a39543erow8_col3 {\n",
       "            background-color:  #7bb6d6;\n",
       "            color:  #000000;\n",
       "        }    #T_52c6b538_651a_11eb_adba_02420a39543erow9_col0 {\n",
       "            background-color:  #3c8abe;\n",
       "            color:  #000000;\n",
       "        }    #T_52c6b538_651a_11eb_adba_02420a39543erow9_col1 {\n",
       "            background-color:  #bbdaea;\n",
       "            color:  #000000;\n",
       "        }    #T_52c6b538_651a_11eb_adba_02420a39543erow9_col2 {\n",
       "            background-color:  #7bb6d6;\n",
       "            color:  #000000;\n",
       "        }    #T_52c6b538_651a_11eb_adba_02420a39543erow9_col3 {\n",
       "            background-color:  #3c8abe;\n",
       "            color:  #000000;\n",
       "        }    #T_52c6b538_651a_11eb_adba_02420a39543erow10_col0 {\n",
       "            background-color:  #1e61a5;\n",
       "            color:  #f1f1f1;\n",
       "        }    #T_52c6b538_651a_11eb_adba_02420a39543erow10_col1 {\n",
       "            background-color:  #1e61a5;\n",
       "            color:  #f1f1f1;\n",
       "        }    #T_52c6b538_651a_11eb_adba_02420a39543erow10_col2 {\n",
       "            background-color:  #1e61a5;\n",
       "            color:  #f1f1f1;\n",
       "        }    #T_52c6b538_651a_11eb_adba_02420a39543erow10_col3 {\n",
       "            background-color:  #1e61a5;\n",
       "            color:  #f1f1f1;\n",
       "        }    #T_52c6b538_651a_11eb_adba_02420a39543erow11_col0 {\n",
       "            background-color:  #053061;\n",
       "            color:  #f1f1f1;\n",
       "        }    #T_52c6b538_651a_11eb_adba_02420a39543erow11_col1 {\n",
       "            background-color:  #053061;\n",
       "            color:  #f1f1f1;\n",
       "        }    #T_52c6b538_651a_11eb_adba_02420a39543erow11_col2 {\n",
       "            background-color:  #053061;\n",
       "            color:  #f1f1f1;\n",
       "        }    #T_52c6b538_651a_11eb_adba_02420a39543erow11_col3 {\n",
       "            background-color:  #053061;\n",
       "            color:  #f1f1f1;\n",
       "        }</style><table id=\"T_52c6b538_651a_11eb_adba_02420a39543e\" ><thead>    <tr>        <th class=\"blank level0\" ></th>        <th class=\"col_heading level0 col0\" >na_sales</th>        <th class=\"col_heading level0 col1\" >eu_sales</th>        <th class=\"col_heading level0 col2\" >jp_sales</th>        <th class=\"col_heading level0 col3\" >other_sales</th>    </tr>    <tr>        <th class=\"index_name level0\" >genre</th>        <th class=\"blank\" ></th>        <th class=\"blank\" ></th>        <th class=\"blank\" ></th>        <th class=\"blank\" ></th>    </tr></thead><tbody>\n",
       "                <tr>\n",
       "                        <th id=\"T_52c6b538_651a_11eb_adba_02420a39543elevel0_row0\" class=\"row_heading level0 row0\" >Action</th>\n",
       "                        <td id=\"T_52c6b538_651a_11eb_adba_02420a39543erow0_col0\" class=\"data row0 col0\" >1</td>\n",
       "                        <td id=\"T_52c6b538_651a_11eb_adba_02420a39543erow0_col1\" class=\"data row0 col1\" >1</td>\n",
       "                        <td id=\"T_52c6b538_651a_11eb_adba_02420a39543erow0_col2\" class=\"data row0 col2\" >2</td>\n",
       "                        <td id=\"T_52c6b538_651a_11eb_adba_02420a39543erow0_col3\" class=\"data row0 col3\" >1</td>\n",
       "            </tr>\n",
       "            <tr>\n",
       "                        <th id=\"T_52c6b538_651a_11eb_adba_02420a39543elevel0_row1\" class=\"row_heading level0 row1\" >Shooter</th>\n",
       "                        <td id=\"T_52c6b538_651a_11eb_adba_02420a39543erow1_col0\" class=\"data row1 col0\" >2</td>\n",
       "                        <td id=\"T_52c6b538_651a_11eb_adba_02420a39543erow1_col1\" class=\"data row1 col1\" >2</td>\n",
       "                        <td id=\"T_52c6b538_651a_11eb_adba_02420a39543erow1_col2\" class=\"data row1 col2\" >5</td>\n",
       "                        <td id=\"T_52c6b538_651a_11eb_adba_02420a39543erow1_col3\" class=\"data row1 col3\" >2</td>\n",
       "            </tr>\n",
       "            <tr>\n",
       "                        <th id=\"T_52c6b538_651a_11eb_adba_02420a39543elevel0_row2\" class=\"row_heading level0 row2\" >Sports</th>\n",
       "                        <td id=\"T_52c6b538_651a_11eb_adba_02420a39543erow2_col0\" class=\"data row2 col0\" >3</td>\n",
       "                        <td id=\"T_52c6b538_651a_11eb_adba_02420a39543erow2_col1\" class=\"data row2 col1\" >3</td>\n",
       "                        <td id=\"T_52c6b538_651a_11eb_adba_02420a39543erow2_col2\" class=\"data row2 col2\" >7</td>\n",
       "                        <td id=\"T_52c6b538_651a_11eb_adba_02420a39543erow2_col3\" class=\"data row2 col3\" >3</td>\n",
       "            </tr>\n",
       "            <tr>\n",
       "                        <th id=\"T_52c6b538_651a_11eb_adba_02420a39543elevel0_row3\" class=\"row_heading level0 row3\" >Role-Playing</th>\n",
       "                        <td id=\"T_52c6b538_651a_11eb_adba_02420a39543erow3_col0\" class=\"data row3 col0\" >4</td>\n",
       "                        <td id=\"T_52c6b538_651a_11eb_adba_02420a39543erow3_col1\" class=\"data row3 col1\" >4</td>\n",
       "                        <td id=\"T_52c6b538_651a_11eb_adba_02420a39543erow3_col2\" class=\"data row3 col2\" >1</td>\n",
       "                        <td id=\"T_52c6b538_651a_11eb_adba_02420a39543erow3_col3\" class=\"data row3 col3\" >4</td>\n",
       "            </tr>\n",
       "            <tr>\n",
       "                        <th id=\"T_52c6b538_651a_11eb_adba_02420a39543elevel0_row4\" class=\"row_heading level0 row4\" >Misc</th>\n",
       "                        <td id=\"T_52c6b538_651a_11eb_adba_02420a39543erow4_col0\" class=\"data row4 col0\" >5</td>\n",
       "                        <td id=\"T_52c6b538_651a_11eb_adba_02420a39543erow4_col1\" class=\"data row4 col1\" >6</td>\n",
       "                        <td id=\"T_52c6b538_651a_11eb_adba_02420a39543erow4_col2\" class=\"data row4 col2\" >3</td>\n",
       "                        <td id=\"T_52c6b538_651a_11eb_adba_02420a39543erow4_col3\" class=\"data row4 col3\" >5</td>\n",
       "            </tr>\n",
       "            <tr>\n",
       "                        <th id=\"T_52c6b538_651a_11eb_adba_02420a39543elevel0_row5\" class=\"row_heading level0 row5\" >Platform</th>\n",
       "                        <td id=\"T_52c6b538_651a_11eb_adba_02420a39543erow5_col0\" class=\"data row5 col0\" >6</td>\n",
       "                        <td id=\"T_52c6b538_651a_11eb_adba_02420a39543erow5_col1\" class=\"data row5 col1\" >7</td>\n",
       "                        <td id=\"T_52c6b538_651a_11eb_adba_02420a39543erow5_col2\" class=\"data row5 col2\" >8</td>\n",
       "                        <td id=\"T_52c6b538_651a_11eb_adba_02420a39543erow5_col3\" class=\"data row5 col3\" >7</td>\n",
       "            </tr>\n",
       "            <tr>\n",
       "                        <th id=\"T_52c6b538_651a_11eb_adba_02420a39543elevel0_row6\" class=\"row_heading level0 row6\" >Fighting</th>\n",
       "                        <td id=\"T_52c6b538_651a_11eb_adba_02420a39543erow6_col0\" class=\"data row6 col0\" >7</td>\n",
       "                        <td id=\"T_52c6b538_651a_11eb_adba_02420a39543erow6_col1\" class=\"data row6 col1\" >9</td>\n",
       "                        <td id=\"T_52c6b538_651a_11eb_adba_02420a39543erow6_col2\" class=\"data row6 col2\" >4</td>\n",
       "                        <td id=\"T_52c6b538_651a_11eb_adba_02420a39543erow6_col3\" class=\"data row6 col3\" >8</td>\n",
       "            </tr>\n",
       "            <tr>\n",
       "                        <th id=\"T_52c6b538_651a_11eb_adba_02420a39543elevel0_row7\" class=\"row_heading level0 row7\" >Racing</th>\n",
       "                        <td id=\"T_52c6b538_651a_11eb_adba_02420a39543erow7_col0\" class=\"data row7 col0\" >8</td>\n",
       "                        <td id=\"T_52c6b538_651a_11eb_adba_02420a39543erow7_col1\" class=\"data row7 col1\" >5</td>\n",
       "                        <td id=\"T_52c6b538_651a_11eb_adba_02420a39543erow7_col2\" class=\"data row7 col2\" >10</td>\n",
       "                        <td id=\"T_52c6b538_651a_11eb_adba_02420a39543erow7_col3\" class=\"data row7 col3\" >6</td>\n",
       "            </tr>\n",
       "            <tr>\n",
       "                        <th id=\"T_52c6b538_651a_11eb_adba_02420a39543elevel0_row8\" class=\"row_heading level0 row8\" >Adventure</th>\n",
       "                        <td id=\"T_52c6b538_651a_11eb_adba_02420a39543erow8_col0\" class=\"data row8 col0\" >9</td>\n",
       "                        <td id=\"T_52c6b538_651a_11eb_adba_02420a39543erow8_col1\" class=\"data row8 col1\" >10</td>\n",
       "                        <td id=\"T_52c6b538_651a_11eb_adba_02420a39543erow8_col2\" class=\"data row8 col2\" >6</td>\n",
       "                        <td id=\"T_52c6b538_651a_11eb_adba_02420a39543erow8_col3\" class=\"data row8 col3\" >9</td>\n",
       "            </tr>\n",
       "            <tr>\n",
       "                        <th id=\"T_52c6b538_651a_11eb_adba_02420a39543elevel0_row9\" class=\"row_heading level0 row9\" >Simulation</th>\n",
       "                        <td id=\"T_52c6b538_651a_11eb_adba_02420a39543erow9_col0\" class=\"data row9 col0\" >10</td>\n",
       "                        <td id=\"T_52c6b538_651a_11eb_adba_02420a39543erow9_col1\" class=\"data row9 col1\" >8</td>\n",
       "                        <td id=\"T_52c6b538_651a_11eb_adba_02420a39543erow9_col2\" class=\"data row9 col2\" >9</td>\n",
       "                        <td id=\"T_52c6b538_651a_11eb_adba_02420a39543erow9_col3\" class=\"data row9 col3\" >10</td>\n",
       "            </tr>\n",
       "            <tr>\n",
       "                        <th id=\"T_52c6b538_651a_11eb_adba_02420a39543elevel0_row10\" class=\"row_heading level0 row10\" >Strategy</th>\n",
       "                        <td id=\"T_52c6b538_651a_11eb_adba_02420a39543erow10_col0\" class=\"data row10 col0\" >11</td>\n",
       "                        <td id=\"T_52c6b538_651a_11eb_adba_02420a39543erow10_col1\" class=\"data row10 col1\" >11</td>\n",
       "                        <td id=\"T_52c6b538_651a_11eb_adba_02420a39543erow10_col2\" class=\"data row10 col2\" >11</td>\n",
       "                        <td id=\"T_52c6b538_651a_11eb_adba_02420a39543erow10_col3\" class=\"data row10 col3\" >11</td>\n",
       "            </tr>\n",
       "            <tr>\n",
       "                        <th id=\"T_52c6b538_651a_11eb_adba_02420a39543elevel0_row11\" class=\"row_heading level0 row11\" >Puzzle</th>\n",
       "                        <td id=\"T_52c6b538_651a_11eb_adba_02420a39543erow11_col0\" class=\"data row11 col0\" >12</td>\n",
       "                        <td id=\"T_52c6b538_651a_11eb_adba_02420a39543erow11_col1\" class=\"data row11 col1\" >12</td>\n",
       "                        <td id=\"T_52c6b538_651a_11eb_adba_02420a39543erow11_col2\" class=\"data row11 col2\" >12</td>\n",
       "                        <td id=\"T_52c6b538_651a_11eb_adba_02420a39543erow11_col3\" class=\"data row11 col3\" >12</td>\n",
       "            </tr>\n",
       "    </tbody></table>"
      ],
      "text/plain": [
       "<pandas.io.formats.style.Styler at 0x7fc082b8b990>"
      ]
     },
     "execution_count": 39,
     "metadata": {},
     "output_type": "execute_result"
    }
   ],
   "source": [
    "genre_region = (games.query('year_of_release >= 2013')\n",
    "    .groupby('genre')[['na_sales','eu_sales','jp_sales','other_sales']]\n",
    "    .sum()\n",
    "    .sort_values(by='na_sales', ascending=False))\n",
    "genre_region.rank(ascending=False).style.background_gradient('RdBu')"
   ]
  },
  {
   "cell_type": "markdown",
   "metadata": {},
   "source": [
    "Популярные жанры игры на американском и европейском рынках - Action и Shooter.  \n",
    "Японский рынок отличается не только предпочтения по платформам, но и игровым жанрам - популярные - Role-Playing и Action.  \n",
    "Игры в стиле Action популярны везде!"
   ]
  },
  {
   "cell_type": "code",
   "execution_count": 40,
   "metadata": {
    "scrolled": false
   },
   "outputs": [
    {
     "data": {
      "text/html": [
       "<style  type=\"text/css\" >\n",
       "    #T_52d0efda_651a_11eb_adba_02420a39543erow0_col0 {\n",
       "            background-color:  #0b0000;\n",
       "            color:  #f1f1f1;\n",
       "        }    #T_52d0efda_651a_11eb_adba_02420a39543erow0_col1 {\n",
       "            background-color:  #0b0000;\n",
       "            color:  #f1f1f1;\n",
       "        }    #T_52d0efda_651a_11eb_adba_02420a39543erow0_col2 {\n",
       "            background-color:  #980000;\n",
       "            color:  #f1f1f1;\n",
       "        }    #T_52d0efda_651a_11eb_adba_02420a39543erow0_col3 {\n",
       "            background-color:  #0b0000;\n",
       "            color:  #f1f1f1;\n",
       "        }    #T_52d0efda_651a_11eb_adba_02420a39543erow1_col0 {\n",
       "            background-color:  #610000;\n",
       "            color:  #f1f1f1;\n",
       "        }    #T_52d0efda_651a_11eb_adba_02420a39543erow1_col1 {\n",
       "            background-color:  #b80000;\n",
       "            color:  #f1f1f1;\n",
       "        }    #T_52d0efda_651a_11eb_adba_02420a39543erow1_col2 {\n",
       "            background-color:  #ffff95;\n",
       "            color:  #000000;\n",
       "        }    #T_52d0efda_651a_11eb_adba_02420a39543erow1_col3 {\n",
       "            background-color:  #a30000;\n",
       "            color:  #f1f1f1;\n",
       "        }    #T_52d0efda_651a_11eb_adba_02420a39543erow2_col0 {\n",
       "            background-color:  #ff5100;\n",
       "            color:  #000000;\n",
       "        }    #T_52d0efda_651a_11eb_adba_02420a39543erow2_col1 {\n",
       "            background-color:  #ff5400;\n",
       "            color:  #000000;\n",
       "        }    #T_52d0efda_651a_11eb_adba_02420a39543erow2_col2 {\n",
       "            background-color:  #ffffac;\n",
       "            color:  #000000;\n",
       "        }    #T_52d0efda_651a_11eb_adba_02420a39543erow2_col3 {\n",
       "            background-color:  #ff4c00;\n",
       "            color:  #000000;\n",
       "        }    #T_52d0efda_651a_11eb_adba_02420a39543erow3_col0 {\n",
       "            background-color:  #ffb500;\n",
       "            color:  #000000;\n",
       "        }    #T_52d0efda_651a_11eb_adba_02420a39543erow3_col1 {\n",
       "            background-color:  #ffdc00;\n",
       "            color:  #000000;\n",
       "        }    #T_52d0efda_651a_11eb_adba_02420a39543erow3_col2 {\n",
       "            background-color:  #0b0000;\n",
       "            color:  #f1f1f1;\n",
       "        }    #T_52d0efda_651a_11eb_adba_02420a39543erow3_col3 {\n",
       "            background-color:  #ffdc00;\n",
       "            color:  #000000;\n",
       "        }    #T_52d0efda_651a_11eb_adba_02420a39543erow4_col0 {\n",
       "            background-color:  #ffff2a;\n",
       "            color:  #000000;\n",
       "        }    #T_52d0efda_651a_11eb_adba_02420a39543erow4_col1 {\n",
       "            background-color:  #ffff5e;\n",
       "            color:  #000000;\n",
       "        }    #T_52d0efda_651a_11eb_adba_02420a39543erow4_col2 {\n",
       "            background-color:  #ffff5e;\n",
       "            color:  #000000;\n",
       "        }    #T_52d0efda_651a_11eb_adba_02420a39543erow4_col3 {\n",
       "            background-color:  #ffff5e;\n",
       "            color:  #000000;\n",
       "        }    #T_52d0efda_651a_11eb_adba_02420a39543erow5_col0 {\n",
       "            background-color:  #ffff75;\n",
       "            color:  #000000;\n",
       "        }    #T_52d0efda_651a_11eb_adba_02420a39543erow5_col1 {\n",
       "            background-color:  #ffff85;\n",
       "            color:  #000000;\n",
       "        }    #T_52d0efda_651a_11eb_adba_02420a39543erow5_col2 {\n",
       "            background-color:  #ffffb8;\n",
       "            color:  #000000;\n",
       "        }    #T_52d0efda_651a_11eb_adba_02420a39543erow5_col3 {\n",
       "            background-color:  #ffff95;\n",
       "            color:  #000000;\n",
       "        }    #T_52d0efda_651a_11eb_adba_02420a39543erow6_col0 {\n",
       "            background-color:  #ffff89;\n",
       "            color:  #000000;\n",
       "        }    #T_52d0efda_651a_11eb_adba_02420a39543erow6_col1 {\n",
       "            background-color:  #ffffc0;\n",
       "            color:  #000000;\n",
       "        }    #T_52d0efda_651a_11eb_adba_02420a39543erow6_col2 {\n",
       "            background-color:  #ffff7d;\n",
       "            color:  #000000;\n",
       "        }    #T_52d0efda_651a_11eb_adba_02420a39543erow6_col3 {\n",
       "            background-color:  #ffffa4;\n",
       "            color:  #000000;\n",
       "        }    #T_52d0efda_651a_11eb_adba_02420a39543erow7_col0 {\n",
       "            background-color:  #ffffa0;\n",
       "            color:  #000000;\n",
       "        }    #T_52d0efda_651a_11eb_adba_02420a39543erow7_col1 {\n",
       "            background-color:  #ffff5e;\n",
       "            color:  #000000;\n",
       "        }    #T_52d0efda_651a_11eb_adba_02420a39543erow7_col2 {\n",
       "            background-color:  #ffffeb;\n",
       "            color:  #000000;\n",
       "        }    #T_52d0efda_651a_11eb_adba_02420a39543erow7_col3 {\n",
       "            background-color:  #ffff8d;\n",
       "            color:  #000000;\n",
       "        }    #T_52d0efda_651a_11eb_adba_02420a39543erow8_col0 {\n",
       "            background-color:  #ffffd0;\n",
       "            color:  #000000;\n",
       "        }    #T_52d0efda_651a_11eb_adba_02420a39543erow8_col1 {\n",
       "            background-color:  #ffffc4;\n",
       "            color:  #000000;\n",
       "        }    #T_52d0efda_651a_11eb_adba_02420a39543erow8_col2 {\n",
       "            background-color:  #ffffa4;\n",
       "            color:  #000000;\n",
       "        }    #T_52d0efda_651a_11eb_adba_02420a39543erow8_col3 {\n",
       "            background-color:  #ffffc4;\n",
       "            color:  #000000;\n",
       "        }    #T_52d0efda_651a_11eb_adba_02420a39543erow9_col0 {\n",
       "            background-color:  #ffffdf;\n",
       "            color:  #000000;\n",
       "        }    #T_52d0efda_651a_11eb_adba_02420a39543erow9_col1 {\n",
       "            background-color:  #ffffac;\n",
       "            color:  #000000;\n",
       "        }    #T_52d0efda_651a_11eb_adba_02420a39543erow9_col2 {\n",
       "            background-color:  #ffffbc;\n",
       "            color:  #000000;\n",
       "        }    #T_52d0efda_651a_11eb_adba_02420a39543erow9_col3 {\n",
       "            background-color:  #ffffdc;\n",
       "            color:  #000000;\n",
       "        }    #T_52d0efda_651a_11eb_adba_02420a39543erow10_col0 {\n",
       "            background-color:  #ffffeb;\n",
       "            color:  #000000;\n",
       "        }    #T_52d0efda_651a_11eb_adba_02420a39543erow10_col1 {\n",
       "            background-color:  #ffffe3;\n",
       "            color:  #000000;\n",
       "        }    #T_52d0efda_651a_11eb_adba_02420a39543erow10_col2 {\n",
       "            background-color:  #fffff3;\n",
       "            color:  #000000;\n",
       "        }    #T_52d0efda_651a_11eb_adba_02420a39543erow10_col3 {\n",
       "            background-color:  #ffffef;\n",
       "            color:  #000000;\n",
       "        }    #T_52d0efda_651a_11eb_adba_02420a39543erow11_col0 {\n",
       "            background-color:  #ffffff;\n",
       "            color:  #000000;\n",
       "        }    #T_52d0efda_651a_11eb_adba_02420a39543erow11_col1 {\n",
       "            background-color:  #ffffff;\n",
       "            color:  #000000;\n",
       "        }    #T_52d0efda_651a_11eb_adba_02420a39543erow11_col2 {\n",
       "            background-color:  #ffffff;\n",
       "            color:  #000000;\n",
       "        }    #T_52d0efda_651a_11eb_adba_02420a39543erow11_col3 {\n",
       "            background-color:  #ffffff;\n",
       "            color:  #000000;\n",
       "        }</style><table id=\"T_52d0efda_651a_11eb_adba_02420a39543e\" ><thead>    <tr>        <th class=\"blank level0\" ></th>        <th class=\"col_heading level0 col0\" >na_%</th>        <th class=\"col_heading level0 col1\" >eu_%</th>        <th class=\"col_heading level0 col2\" >jp_%</th>        <th class=\"col_heading level0 col3\" >other_%</th>    </tr>    <tr>        <th class=\"index_name level0\" >genre</th>        <th class=\"blank\" ></th>        <th class=\"blank\" ></th>        <th class=\"blank\" ></th>        <th class=\"blank\" ></th>    </tr></thead><tbody>\n",
       "                <tr>\n",
       "                        <th id=\"T_52d0efda_651a_11eb_adba_02420a39543elevel0_row0\" class=\"row_heading level0 row0\" >Action</th>\n",
       "                        <td id=\"T_52d0efda_651a_11eb_adba_02420a39543erow0_col0\" class=\"data row0 col0\" >28.8</td>\n",
       "                        <td id=\"T_52d0efda_651a_11eb_adba_02420a39543erow0_col1\" class=\"data row0 col1\" >30.12</td>\n",
       "                        <td id=\"T_52d0efda_651a_11eb_adba_02420a39543erow0_col2\" class=\"data row0 col2\" >28.76</td>\n",
       "                        <td id=\"T_52d0efda_651a_11eb_adba_02420a39543erow0_col3\" class=\"data row0 col3\" >31.01</td>\n",
       "            </tr>\n",
       "            <tr>\n",
       "                        <th id=\"T_52d0efda_651a_11eb_adba_02420a39543elevel0_row1\" class=\"row_heading level0 row1\" >Shooter</th>\n",
       "                        <td id=\"T_52d0efda_651a_11eb_adba_02420a39543erow1_col0\" class=\"data row1 col0\" >25.07</td>\n",
       "                        <td id=\"T_52d0efda_651a_11eb_adba_02420a39543erow1_col1\" class=\"data row1 col1\" >22.4</td>\n",
       "                        <td id=\"T_52d0efda_651a_11eb_adba_02420a39543erow1_col2\" class=\"data row1 col2\" >4.7</td>\n",
       "                        <td id=\"T_52d0efda_651a_11eb_adba_02420a39543erow1_col3\" class=\"data row1 col3\" >23.98</td>\n",
       "            </tr>\n",
       "            <tr>\n",
       "                        <th id=\"T_52d0efda_651a_11eb_adba_02420a39543elevel0_row2\" class=\"row_heading level0 row2\" >Sports</th>\n",
       "                        <td id=\"T_52d0efda_651a_11eb_adba_02420a39543erow2_col0\" class=\"data row2 col0\" >14.91</td>\n",
       "                        <td id=\"T_52d0efda_651a_11eb_adba_02420a39543erow2_col1\" class=\"data row2 col1\" >15.43</td>\n",
       "                        <td id=\"T_52d0efda_651a_11eb_adba_02420a39543erow2_col2\" class=\"data row2 col2\" >3.84</td>\n",
       "                        <td id=\"T_52d0efda_651a_11eb_adba_02420a39543erow2_col3\" class=\"data row2 col3\" >16.21</td>\n",
       "            </tr>\n",
       "            <tr>\n",
       "                        <th id=\"T_52d0efda_651a_11eb_adba_02420a39543elevel0_row3\" class=\"row_heading level0 row3\" >Role-Playing</th>\n",
       "                        <td id=\"T_52d0efda_651a_11eb_adba_02420a39543erow3_col0\" class=\"data row3 col0\" >10.6</td>\n",
       "                        <td id=\"T_52d0efda_651a_11eb_adba_02420a39543erow3_col1\" class=\"data row3 col1\" >9.43</td>\n",
       "                        <td id=\"T_52d0efda_651a_11eb_adba_02420a39543erow3_col2\" class=\"data row3 col2\" >36.26</td>\n",
       "                        <td id=\"T_52d0efda_651a_11eb_adba_02420a39543erow3_col3\" class=\"data row3 col3\" >9.57</td>\n",
       "            </tr>\n",
       "            <tr>\n",
       "                        <th id=\"T_52d0efda_651a_11eb_adba_02420a39543elevel0_row4\" class=\"row_heading level0 row4\" >Misc</th>\n",
       "                        <td id=\"T_52d0efda_651a_11eb_adba_02420a39543erow4_col0\" class=\"data row4 col0\" >6.28</td>\n",
       "                        <td id=\"T_52d0efda_651a_11eb_adba_02420a39543erow4_col1\" class=\"data row4 col1\" >5.11</td>\n",
       "                        <td id=\"T_52d0efda_651a_11eb_adba_02420a39543erow4_col2\" class=\"data row4 col2\" >6.54</td>\n",
       "                        <td id=\"T_52d0efda_651a_11eb_adba_02420a39543erow4_col3\" class=\"data row4 col3\" >5.08</td>\n",
       "            </tr>\n",
       "            <tr>\n",
       "                        <th id=\"T_52d0efda_651a_11eb_adba_02420a39543elevel0_row5\" class=\"row_heading level0 row5\" >Platform</th>\n",
       "                        <td id=\"T_52d0efda_651a_11eb_adba_02420a39543erow5_col0\" class=\"data row5 col0\" >4.14</td>\n",
       "                        <td id=\"T_52d0efda_651a_11eb_adba_02420a39543erow5_col1\" class=\"data row5 col1\" >3.97</td>\n",
       "                        <td id=\"T_52d0efda_651a_11eb_adba_02420a39543erow5_col2\" class=\"data row5 col2\" >3.4</td>\n",
       "                        <td id=\"T_52d0efda_651a_11eb_adba_02420a39543erow5_col3\" class=\"data row5 col3\" >3.43</td>\n",
       "            </tr>\n",
       "            <tr>\n",
       "                        <th id=\"T_52d0efda_651a_11eb_adba_02420a39543elevel0_row6\" class=\"row_heading level0 row6\" >Fighting</th>\n",
       "                        <td id=\"T_52d0efda_651a_11eb_adba_02420a39543erow6_col0\" class=\"data row6 col0\" >3.55</td>\n",
       "                        <td id=\"T_52d0efda_651a_11eb_adba_02420a39543erow6_col1\" class=\"data row6 col1\" >2.18</td>\n",
       "                        <td id=\"T_52d0efda_651a_11eb_adba_02420a39543erow6_col2\" class=\"data row6 col2\" >5.43</td>\n",
       "                        <td id=\"T_52d0efda_651a_11eb_adba_02420a39543erow6_col3\" class=\"data row6 col3\" >2.97</td>\n",
       "            </tr>\n",
       "            <tr>\n",
       "                        <th id=\"T_52d0efda_651a_11eb_adba_02420a39543elevel0_row7\" class=\"row_heading level0 row7\" >Racing</th>\n",
       "                        <td id=\"T_52d0efda_651a_11eb_adba_02420a39543erow7_col0\" class=\"data row7 col0\" >2.96</td>\n",
       "                        <td id=\"T_52d0efda_651a_11eb_adba_02420a39543erow7_col1\" class=\"data row7 col1\" >5.15</td>\n",
       "                        <td id=\"T_52d0efda_651a_11eb_adba_02420a39543erow7_col2\" class=\"data row7 col2\" >1.63</td>\n",
       "                        <td id=\"T_52d0efda_651a_11eb_adba_02420a39543erow7_col3\" class=\"data row7 col3\" >3.7</td>\n",
       "            </tr>\n",
       "            <tr>\n",
       "                        <th id=\"T_52d0efda_651a_11eb_adba_02420a39543elevel0_row8\" class=\"row_heading level0 row8\" >Adventure</th>\n",
       "                        <td id=\"T_52d0efda_651a_11eb_adba_02420a39543erow8_col0\" class=\"data row8 col0\" >1.63</td>\n",
       "                        <td id=\"T_52d0efda_651a_11eb_adba_02420a39543erow8_col1\" class=\"data row8 col1\" >2.1</td>\n",
       "                        <td id=\"T_52d0efda_651a_11eb_adba_02420a39543erow8_col2\" class=\"data row8 col2\" >4.13</td>\n",
       "                        <td id=\"T_52d0efda_651a_11eb_adba_02420a39543erow8_col3\" class=\"data row8 col3\" >2.03</td>\n",
       "            </tr>\n",
       "            <tr>\n",
       "                        <th id=\"T_52d0efda_651a_11eb_adba_02420a39543elevel0_row9\" class=\"row_heading level0 row9\" >Simulation</th>\n",
       "                        <td id=\"T_52d0efda_651a_11eb_adba_02420a39543erow9_col0\" class=\"data row9 col0\" >1.11</td>\n",
       "                        <td id=\"T_52d0efda_651a_11eb_adba_02420a39543erow9_col1\" class=\"data row9 col1\" >2.78</td>\n",
       "                        <td id=\"T_52d0efda_651a_11eb_adba_02420a39543erow9_col2\" class=\"data row9 col2\" >3.21</td>\n",
       "                        <td id=\"T_52d0efda_651a_11eb_adba_02420a39543erow9_col3\" class=\"data row9 col3\" >1.22</td>\n",
       "            </tr>\n",
       "            <tr>\n",
       "                        <th id=\"T_52d0efda_651a_11eb_adba_02420a39543elevel0_row10\" class=\"row_heading level0 row10\" >Strategy</th>\n",
       "                        <td id=\"T_52d0efda_651a_11eb_adba_02420a39543erow10_col0\" class=\"data row10 col0\" >0.75</td>\n",
       "                        <td id=\"T_52d0efda_651a_11eb_adba_02420a39543erow10_col1\" class=\"data row10 col1\" >1.08</td>\n",
       "                        <td id=\"T_52d0efda_651a_11eb_adba_02420a39543erow10_col2\" class=\"data row10 col2\" >1.26</td>\n",
       "                        <td id=\"T_52d0efda_651a_11eb_adba_02420a39543erow10_col3\" class=\"data row10 col3\" >0.68</td>\n",
       "            </tr>\n",
       "            <tr>\n",
       "                        <th id=\"T_52d0efda_651a_11eb_adba_02420a39543elevel0_row11\" class=\"row_heading level0 row11\" >Puzzle</th>\n",
       "                        <td id=\"T_52d0efda_651a_11eb_adba_02420a39543erow11_col0\" class=\"data row11 col0\" >0.19</td>\n",
       "                        <td id=\"T_52d0efda_651a_11eb_adba_02420a39543erow11_col1\" class=\"data row11 col1\" >0.25</td>\n",
       "                        <td id=\"T_52d0efda_651a_11eb_adba_02420a39543erow11_col2\" class=\"data row11 col2\" >0.84</td>\n",
       "                        <td id=\"T_52d0efda_651a_11eb_adba_02420a39543erow11_col3\" class=\"data row11 col3\" >0.13</td>\n",
       "            </tr>\n",
       "    </tbody></table>"
      ],
      "text/plain": [
       "<pandas.io.formats.style.Styler at 0x7fc082b69dd0>"
      ]
     },
     "execution_count": 40,
     "metadata": {},
     "output_type": "execute_result"
    }
   ],
   "source": [
    "genre_region['na_%'] = percentColumn (genre_region,'na_sales')\n",
    "genre_region['eu_%'] = percentColumn (genre_region,'eu_sales')\n",
    "genre_region['jp_%'] = percentColumn (genre_region,'jp_sales')\n",
    "genre_region['other_%'] = percentColumn (genre_region,'other_sales')\n",
    "genre_region[['na_%','eu_%','jp_%','other_%']].style.background_gradient('hot_r')"
   ]
  },
  {
   "cell_type": "markdown",
   "metadata": {},
   "source": [
    "Самые непопулярные игры на рынке в целом - Strtegy и Puzzle - одинаковая ситуация по всем регионам.  \n",
    "Суммарная доля этих жанров менее 2% "
   ]
  },
  {
   "cell_type": "markdown",
   "metadata": {},
   "source": [
    "___________\n",
    "Посмотрим какие игры по рейтингу ESRB популярны  в разных регионах."
   ]
  },
  {
   "cell_type": "code",
   "execution_count": 41,
   "metadata": {
    "scrolled": true
   },
   "outputs": [
    {
     "data": {
      "text/html": [
       "<style  type=\"text/css\" >\n",
       "    #T_52dc75bc_651a_11eb_adba_02420a39543erow0_col0 {\n",
       "            background-color:  #0b0000;\n",
       "            color:  #f1f1f1;\n",
       "        }    #T_52dc75bc_651a_11eb_adba_02420a39543erow0_col1 {\n",
       "            background-color:  #0b0000;\n",
       "            color:  #f1f1f1;\n",
       "        }    #T_52dc75bc_651a_11eb_adba_02420a39543erow0_col2 {\n",
       "            background-color:  #ff3200;\n",
       "            color:  #f1f1f1;\n",
       "        }    #T_52dc75bc_651a_11eb_adba_02420a39543erow0_col3 {\n",
       "            background-color:  #0b0000;\n",
       "            color:  #f1f1f1;\n",
       "        }    #T_52dc75bc_651a_11eb_adba_02420a39543erow1_col0 {\n",
       "            background-color:  #ffff03;\n",
       "            color:  #000000;\n",
       "        }    #T_52dc75bc_651a_11eb_adba_02420a39543erow1_col1 {\n",
       "            background-color:  #ff9d00;\n",
       "            color:  #000000;\n",
       "        }    #T_52dc75bc_651a_11eb_adba_02420a39543erow1_col2 {\n",
       "            background-color:  #ff0200;\n",
       "            color:  #f1f1f1;\n",
       "        }    #T_52dc75bc_651a_11eb_adba_02420a39543erow1_col3 {\n",
       "            background-color:  #ffe700;\n",
       "            color:  #000000;\n",
       "        }    #T_52dc75bc_651a_11eb_adba_02420a39543erow2_col0 {\n",
       "            background-color:  #ffffdc;\n",
       "            color:  #000000;\n",
       "        }    #T_52dc75bc_651a_11eb_adba_02420a39543erow2_col1 {\n",
       "            background-color:  #fffffb;\n",
       "            color:  #000000;\n",
       "        }    #T_52dc75bc_651a_11eb_adba_02420a39543erow2_col2 {\n",
       "            background-color:  #ffffff;\n",
       "            color:  #000000;\n",
       "        }    #T_52dc75bc_651a_11eb_adba_02420a39543erow2_col3 {\n",
       "            background-color:  #ffffff;\n",
       "            color:  #000000;\n",
       "        }    #T_52dc75bc_651a_11eb_adba_02420a39543erow3_col0 {\n",
       "            background-color:  #ffffff;\n",
       "            color:  #000000;\n",
       "        }    #T_52dc75bc_651a_11eb_adba_02420a39543erow3_col1 {\n",
       "            background-color:  #ffffff;\n",
       "            color:  #000000;\n",
       "        }    #T_52dc75bc_651a_11eb_adba_02420a39543erow3_col2 {\n",
       "            background-color:  #0b0000;\n",
       "            color:  #f1f1f1;\n",
       "        }    #T_52dc75bc_651a_11eb_adba_02420a39543erow3_col3 {\n",
       "            background-color:  #ffffd0;\n",
       "            color:  #000000;\n",
       "        }</style><table id=\"T_52dc75bc_651a_11eb_adba_02420a39543e\" ><thead>    <tr>        <th class=\"blank level0\" ></th>        <th class=\"col_heading level0 col0\" >na_%</th>        <th class=\"col_heading level0 col1\" >eu_%</th>        <th class=\"col_heading level0 col2\" >jp_%</th>        <th class=\"col_heading level0 col3\" >other_%</th>    </tr>    <tr>        <th class=\"index_name level0\" >rating</th>        <th class=\"blank\" ></th>        <th class=\"blank\" ></th>        <th class=\"blank\" ></th>        <th class=\"blank\" ></th>    </tr></thead><tbody>\n",
       "                <tr>\n",
       "                        <th id=\"T_52dc75bc_651a_11eb_adba_02420a39543elevel0_row0\" class=\"row_heading level0 row0\" >M</th>\n",
       "                        <td id=\"T_52dc75bc_651a_11eb_adba_02420a39543erow0_col0\" class=\"data row0 col0\" >47.43</td>\n",
       "                        <td id=\"T_52dc75bc_651a_11eb_adba_02420a39543erow0_col1\" class=\"data row0 col1\" >46.38</td>\n",
       "                        <td id=\"T_52dc75bc_651a_11eb_adba_02420a39543erow0_col2\" class=\"data row0 col2\" >25.32</td>\n",
       "                        <td id=\"T_52dc75bc_651a_11eb_adba_02420a39543erow0_col3\" class=\"data row0 col3\" >48.74</td>\n",
       "            </tr>\n",
       "            <tr>\n",
       "                        <th id=\"T_52dc75bc_651a_11eb_adba_02420a39543elevel0_row1\" class=\"row_heading level0 row1\" >E</th>\n",
       "                        <td id=\"T_52dc75bc_651a_11eb_adba_02420a39543erow1_col0\" class=\"data row1 col0\" >22.7</td>\n",
       "                        <td id=\"T_52dc75bc_651a_11eb_adba_02420a39543erow1_col1\" class=\"data row1 col1\" >26.61</td>\n",
       "                        <td id=\"T_52dc75bc_651a_11eb_adba_02420a39543erow1_col2\" class=\"data row1 col2\" >27.17</td>\n",
       "                        <td id=\"T_52dc75bc_651a_11eb_adba_02420a39543erow1_col3\" class=\"data row1 col3\" >23.43</td>\n",
       "            </tr>\n",
       "            <tr>\n",
       "                        <th id=\"T_52dc75bc_651a_11eb_adba_02420a39543elevel0_row2\" class=\"row_heading level0 row2\" >E10+</th>\n",
       "                        <td id=\"T_52dc75bc_651a_11eb_adba_02420a39543erow2_col0\" class=\"data row2 col0\" >15.57</td>\n",
       "                        <td id=\"T_52dc75bc_651a_11eb_adba_02420a39543erow2_col1\" class=\"data row2 col1\" >13.63</td>\n",
       "                        <td id=\"T_52dc75bc_651a_11eb_adba_02420a39543erow2_col2\" class=\"data row2 col2\" >10.57</td>\n",
       "                        <td id=\"T_52dc75bc_651a_11eb_adba_02420a39543erow2_col3\" class=\"data row2 col3\" >13.02</td>\n",
       "            </tr>\n",
       "            <tr>\n",
       "                        <th id=\"T_52dc75bc_651a_11eb_adba_02420a39543elevel0_row3\" class=\"row_heading level0 row3\" >T</th>\n",
       "                        <td id=\"T_52dc75bc_651a_11eb_adba_02420a39543erow3_col0\" class=\"data row3 col0\" >14.3</td>\n",
       "                        <td id=\"T_52dc75bc_651a_11eb_adba_02420a39543erow3_col1\" class=\"data row3 col1\" >13.39</td>\n",
       "                        <td id=\"T_52dc75bc_651a_11eb_adba_02420a39543erow3_col2\" class=\"data row3 col2\" >36.95</td>\n",
       "                        <td id=\"T_52dc75bc_651a_11eb_adba_02420a39543erow3_col3\" class=\"data row3 col3\" >14.81</td>\n",
       "            </tr>\n",
       "    </tbody></table>"
      ],
      "text/plain": [
       "<pandas.io.formats.style.Styler at 0x7fc082c14990>"
      ]
     },
     "execution_count": 41,
     "metadata": {},
     "output_type": "execute_result"
    }
   ],
   "source": [
    "rating_region = (games.query('year_of_release >= 2013')\n",
    "                 .groupby('rating')[['na_sales','eu_sales','jp_sales','other_sales']]\n",
    "                 .sum()\n",
    "                 .sort_values(by='na_sales', ascending=False))\n",
    "rating_region['na_%'] = percentColumn (rating_region,'na_sales')\n",
    "rating_region['eu_%'] = percentColumn (rating_region,'eu_sales')\n",
    "rating_region['jp_%'] = percentColumn (rating_region,'jp_sales')\n",
    "rating_region['other_%'] = percentColumn (rating_region,'other_sales')\n",
    "rating_region[['na_%','eu_%','jp_%','other_%']].style.background_gradient('hot_r')\n"
   ]
  },
  {
   "cell_type": "code",
   "execution_count": 42,
   "metadata": {},
   "outputs": [
    {
     "data": {
      "image/png": "[encoded data removed]",
      "text/plain": [
       "<Figure size 432x288 with 1 Axes>"
      ]
     },
     "metadata": {},
     "output_type": "display_data"
    },
    {
     "data": {
      "image/png": "[encoded data removed]",
      "text/plain": [
       "<Figure size 432x288 with 1 Axes>"
      ]
     },
     "metadata": {},
     "output_type": "display_data"
    },
    {
     "data": {
      "image/png": "[encoded data removed]",
      "text/plain": [
       "<Figure size 432x288 with 1 Axes>"
      ]
     },
     "metadata": {},
     "output_type": "display_data"
    }
   ],
   "source": [
    "for i in rating_region[['na_%','eu_%','jp_%']].columns: \n",
    "    plt.title(i)\n",
    "    plt.pie(rating_region[i], autopct='%.0f%%',labels=rating_region.index)\n",
    "    plt.show()\n"
   ]
  },
  {
   "cell_type": "markdown",
   "metadata": {},
   "source": [
    "Если в целом можно сказать, что вмериканский и европейский рынок отдает предпочтение либо играм с рейтингом M (Mature, для взрослых) либо E(Everyone, для всех), для для японского рынка это игры T(Teen, для подростков). "
   ]
  },
  {
   "cell_type": "markdown",
   "metadata": {},
   "source": [
    "</span><a id='conclusion'></a>\n",
    "_______\n",
    "## Общий вывод"
   ]
  },
  {
   "cell_type": "markdown",
   "metadata": {},
   "source": [
    "Общие рекомендации.\n",
    "\n",
    "Для планирования рекламных кампаний на 2017 год нужно обязательно учитывать следующие факторы: \n",
    "- Рынок игровых платформ и пользовательских предпочтений в Японии существенно отличается от мирового.  \n",
    "\n",
    "- Самая популярная платформа Японии – портативная 3DS (Nintendo) занимает 48% рынка, вторая по популярности - PS3 (16% рынка), которой на смену уже приходит выпущенная в 2013г. - обновленная PS4. В то время как в северной америке, европе и остальных регионах уже лидирует PS4.  \n",
    "\n",
    "- Вышедшие в 2013г.  обновленные приставки PS4  и Xbox One активно завоевывают рынкок. В среднем такие платформы поддерживаются производителями игр в течении 10 лет, причем первые 5 лет идет активный рост продаж. Примерно раз в 7 лет такие платформы обновлются – выходят новые версии. Можно с увереностью сказать, что 2017-2018 гг. продажи игр для для платформ PS4 и Xbox One будут на пике.\n",
    "\n",
    "Рекомендации по регионам.\n",
    "\n",
    "**Япония**   \n",
    "Стоит отметить, что в Японии предпочитают портативные приставки, однако  скорее всего на смену 3DS в ближайшее время должно выйти обновление, так как она уже существует на рынке в  течении 6 лет. Популярность игр для этой платформы будет снижаться. Будет набирать популярность обновленная платформа от Nintendo. \n",
    "\n",
    "Популярностью пользуются игры в жанрах Action и Role-Playing. Игры с рейтингом T (Teen, для подростков) и M(Mature, для взрослых) пользуются наибольшим спросом.\n",
    " \n",
    "**Для рынка северной америки, европы и других регионов**  \n",
    "В 2017-2018 наиболее успешными будут платфомы Xbox One и PS4, игры в жанрах Action и Shooter, а также игры с рейтингом ESRB M (Mature, для взрослых) или E(Everyone, для всех).\n",
    "\n",
    "Отдельным плюсом можно считать высокие рейтинги критиков у новых игр – у таких релизов больше вероятность на высокие продажи.\n"
   ]
  },
  {
   "cell_type": "code",
   "execution_count": null,
   "metadata": {},
   "outputs": [],
   "source": []
  }
 ],
 "metadata": {
  "kernelspec": {
   "display_name": "Python 3",
   "language": "python",
   "name": "python3"
  },
  "language_info": {
   "codemirror_mode": {
    "name": "ipython",
    "version": 3
   },
   "file_extension": ".py",
   "mimetype": "text/x-python",
   "name": "python",
   "nbconvert_exporter": "python",
   "pygments_lexer": "ipython3",
   "version": "3.7.6"
  }
 },
 "nbformat": 4,
 "nbformat_minor": 2
}
